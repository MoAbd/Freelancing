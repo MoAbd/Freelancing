{
 "cells": [
  {
   "cell_type": "markdown",
   "metadata": {},
   "source": [
    "# Data Analysis Using Twitter API\n",
    "\n",
    "For the purpose of working with the Twitter API, I'll be using the \"tweepy\" library in Python (http://www.tweepy.org/).\n",
    "\n",
    "I have added comments throughout the code (wherever required) so as to make it easier to understand. I'll be using \"pandas\" library in Python (http://pandas.pydata.org/) to convert the returned JSON format into a DataFrame to work on it and analyze it."
   ]
  },
  {
   "cell_type": "markdown",
   "metadata": {},
   "source": [
    "## Step 1: Getting Twitter API keys\n",
    "In order to access Twitter  API, we need to get 4 pieces of information from Twitter: API key, API secret, Access token and Access token secret. Follow the steps below to get all 4 elements:\n",
    "\n",
    "*   Create a twitter account if you do not already have one.\n",
    "*   Go to https://apps.twitter.com/ and log in with your twitter credentials.\n",
    "*   Click \"Create New App\"\n",
    "*   Fill out the form, agree to the terms, and click \"Create your Twitter application\"\n",
    "*   In the next page, click on \"API keys\" tab, and copy your \"API key\" and \"API secret\".\n",
    "*   Scroll down and click \"Create my access token\", and copy your \"Access token\" and \"Access token secret\".\n"
   ]
  },
  {
   "cell_type": "code",
   "execution_count": 16,
   "metadata": {
    "collapsed": false
   },
   "outputs": [
    {
     "name": "stderr",
     "output_type": "stream",
     "text": [
      "/home/vulture/anaconda/conda/envs/dato-env/lib/python2.7/site-packages/IPython/core/interactiveshell.py:3066: FutureWarning: \n",
      "mpl_style had been deprecated and will be removed in a future version.\n",
      "Use `matplotlib.pyplot.style.use` instead.\n",
      "\n",
      "  exec(code_obj, self.user_global_ns, self.user_ns)\n"
     ]
    }
   ],
   "source": [
    "#Import the required libraries\n",
    "import tweepy\n",
    "import pandas as pd\n",
    "import matplotlib.pyplot as plt \n",
    "%matplotlib inline\n",
    "pd.set_option('display.mpl_style', 'default')\n"
   ]
  },
  {
   "cell_type": "markdown",
   "metadata": {},
   "source": [
    "## Step 2: Connecting to Twitter Streaming API\n",
    "Twitter requires all requests to use OAuth for authentication.\n",
    "We will assign the keys to respective variables for use, and also connect to the Twitter API using these along-with \"tweepy\". "
   ]
  },
  {
   "cell_type": "code",
   "execution_count": 2,
   "metadata": {
    "collapsed": true
   },
   "outputs": [],
   "source": [
    "consumer_key =  '<Your Consumer Key>'\n",
    "consumer_secret = '<Your Consumer secret Key>'\n",
    "access_token = '<Your Access Token>'\n",
    "access_token_secret = '<Your Access Token Secret>'\n",
    "\n",
    "auth = tweepy.OAuthHandler(consumer_key, consumer_secret)\n",
    "auth.set_access_token(access_token, access_token_secret)\n",
    "api = tweepy.API(auth)\n"
   ]
  },
  {
   "cell_type": "markdown",
   "metadata": {},
   "source": [
    "## Step 3: Find trend \n",
    "Define a function to get a trend with rank(N) for specific WOEID (a Yahoo! Where On Earth ID)\n"
   ]
  },
  {
   "cell_type": "code",
   "execution_count": 3,
   "metadata": {
    "collapsed": false
   },
   "outputs": [
    {
     "name": "stdout",
     "output_type": "stream",
     "text": [
      "[{u'created_at': u'2016-04-29T18:42:57Z', u'trends': [{u'url': u'http://twitter.com/search?q=%23InternationalDanceDay', u'query': u'%23InternationalDanceDay', u'tweet_volume': 49414, u'name': u'#InternationalDanceDay', u'promoted_content': None}, {u'url': u'http://twitter.com/search?q=%23FridayFeeling', u'query': u'%23FridayFeeling', u'tweet_volume': 65800, u'name': u'#FridayFeeling', u'promoted_content': None}, {u'url': u'http://twitter.com/search?q=%23ArborDay', u'query': u'%23ArborDay', u'tweet_volume': 13902, u'name': u'#ArborDay', u'promoted_content': None}, {u'url': u'http://twitter.com/search?q=%23SongAnArtist', u'query': u'%23SongAnArtist', u'tweet_volume': None, u'name': u'#SongAnArtist', u'promoted_content': None}, {u'url': u'http://twitter.com/search?q=%23FlashbackFriday', u'query': u'%23FlashbackFriday', u'tweet_volume': 12270, u'name': u'#FlashbackFriday', u'promoted_content': None}, {u'url': u'http://twitter.com/search?q=%22Mike+Pence%22', u'query': u'%22Mike+Pence%22', u'tweet_volume': 20787, u'name': u'Mike Pence', u'promoted_content': None}, {u'url': u'http://twitter.com/search?q=%22Bruce+Boudreau%22', u'query': u'%22Bruce+Boudreau%22', u'tweet_volume': None, u'name': u'Bruce Boudreau', u'promoted_content': None}, {u'url': u'http://twitter.com/search?q=%22CJ+Cregg%22', u'query': u'%22CJ+Cregg%22', u'tweet_volume': None, u'name': u'CJ Cregg', u'promoted_content': None}, {u'url': u'http://twitter.com/search?q=Khia', u'query': u'Khia', u'tweet_volume': None, u'name': u'Khia', u'promoted_content': None}, {u'url': u'http://twitter.com/search?q=%22The+Punisher%22', u'query': u'%22The+Punisher%22', u'tweet_volume': 39248, u'name': u'The Punisher', u'promoted_content': None}, {u'url': u'http://twitter.com/search?q=%22Will+Ferrell%22', u'query': u'%22Will+Ferrell%22', u'tweet_volume': 16347, u'name': u'Will Ferrell', u'promoted_content': None}, {u'url': u'http://twitter.com/search?q=%22David+Brooks%22', u'query': u'%22David+Brooks%22', u'tweet_volume': None, u'name': u'David Brooks', u'promoted_content': None}, {u'url': u'http://twitter.com/search?q=%22Large+Hadron+Collider%22', u'query': u'%22Large+Hadron+Collider%22', u'tweet_volume': None, u'name': u'Large Hadron Collider', u'promoted_content': None}, {u'url': u'http://twitter.com/search?q=%22Joey+Meek%22', u'query': u'%22Joey+Meek%22', u'tweet_volume': None, u'name': u'Joey Meek', u'promoted_content': None}, {u'url': u'http://twitter.com/search?q=%22Chuo+Torrealba%22', u'query': u'%22Chuo+Torrealba%22', u'tweet_volume': 27261, u'name': u'Chuo Torrealba', u'promoted_content': None}, {u'url': u'http://twitter.com/search?q=%22Line+Up+The+Flex%22', u'query': u'%22Line+Up+The+Flex%22', u'tweet_volume': None, u'name': u'Line Up The Flex', u'promoted_content': None}, {u'url': u'http://twitter.com/search?q=%22Double+Harness%22', u'query': u'%22Double+Harness%22', u'tweet_volume': None, u'name': u'Double Harness', u'promoted_content': None}, {u'url': u'http://twitter.com/search?q=Carrier', u'query': u'Carrier', u'tweet_volume': 17966, u'name': u'Carrier', u'promoted_content': None}, {u'url': u'http://twitter.com/search?q=%23CAGOPConvention', u'query': u'%23CAGOPConvention', u'tweet_volume': None, u'name': u'#CAGOPConvention', u'promoted_content': None}, {u'url': u'http://twitter.com/search?q=%23GiveABandAHangover', u'query': u'%23GiveABandAHangover', u'tweet_volume': None, u'name': u'#GiveABandAHangover', u'promoted_content': None}, {u'url': u'http://twitter.com/search?q=%23AddInTheButtToAMovieTitle', u'query': u'%23AddInTheButtToAMovieTitle', u'tweet_volume': None, u'name': u'#AddInTheButtToAMovieTitle', u'promoted_content': None}, {u'url': u'http://twitter.com/search?q=%23NASASocial', u'query': u'%23NASASocial', u'tweet_volume': None, u'name': u'#NASASocial', u'promoted_content': None}, {u'url': u'http://twitter.com/search?q=%23AppleSabotagingBeyonc%C3%A9', u'query': u'%23AppleSabotagingBeyonc%C3%A9', u'tweet_volume': None, u'name': u'#AppleSabotagingBeyonc\\xe9', u'promoted_content': None}, {u'url': u'http://twitter.com/search?q=%23WorldWishDay', u'query': u'%23WorldWishDay', u'tweet_volume': None, u'name': u'#WorldWishDay', u'promoted_content': None}, {u'url': u'http://twitter.com/search?q=%23KnowHerTruths', u'query': u'%23KnowHerTruths', u'tweet_volume': None, u'name': u'#KnowHerTruths', u'promoted_content': None}, {u'url': u'http://twitter.com/search?q=%2353SOM', u'query': u'%2353SOM', u'tweet_volume': None, u'name': u'#53SOM', u'promoted_content': None}, {u'url': u'http://twitter.com/search?q=%23PoliticalVideoGames', u'query': u'%23PoliticalVideoGames', u'tweet_volume': None, u'name': u'#PoliticalVideoGames', u'promoted_content': None}, {u'url': u'http://twitter.com/search?q=%23PlaybookLunch', u'query': u'%23PlaybookLunch', u'tweet_volume': None, u'name': u'#PlaybookLunch', u'promoted_content': None}, {u'url': u'http://twitter.com/search?q=%23DrakeDay', u'query': u'%23DrakeDay', u'tweet_volume': None, u'name': u'#DrakeDay', u'promoted_content': None}, {u'url': u'http://twitter.com/search?q=%2399closure', u'query': u'%2399closure', u'tweet_volume': None, u'name': u'#99closure', u'promoted_content': None}, {u'url': u'http://twitter.com/search?q=%23DontTryThisAtHomeTour', u'query': u'%23DontTryThisAtHomeTour', u'tweet_volume': 20336, u'name': u'#DontTryThisAtHomeTour', u'promoted_content': None}, {u'url': u'http://twitter.com/search?q=%23AirbnbWhileBlack', u'query': u'%23AirbnbWhileBlack', u'tweet_volume': None, u'name': u'#AirbnbWhileBlack', u'promoted_content': None}, {u'url': u'http://twitter.com/search?q=%23LadyPanda', u'query': u'%23LadyPanda', u'tweet_volume': None, u'name': u'#LadyPanda', u'promoted_content': None}, {u'url': u'http://twitter.com/search?q=%23TALKInfluence', u'query': u'%23TALKInfluence', u'tweet_volume': None, u'name': u'#TALKInfluence', u'promoted_content': None}, {u'url': u'http://twitter.com/search?q=%23yaletech16', u'query': u'%23yaletech16', u'tweet_volume': None, u'name': u'#yaletech16', u'promoted_content': None}, {u'url': u'http://twitter.com/search?q=%23JAchat', u'query': u'%23JAchat', u'tweet_volume': None, u'name': u'#JAchat', u'promoted_content': None}, {u'url': u'http://twitter.com/search?q=%23travelskills', u'query': u'%23travelskills', u'tweet_volume': None, u'name': u'#travelskills', u'promoted_content': None}, {u'url': u'http://twitter.com/search?q=%23SageIsDeadParty', u'query': u'%23SageIsDeadParty', u'tweet_volume': None, u'name': u'#SageIsDeadParty', u'promoted_content': None}, {u'url': u'http://twitter.com/search?q=%23ILoveThe90sTODAY', u'query': u'%23ILoveThe90sTODAY', u'tweet_volume': None, u'name': u'#ILoveThe90sTODAY', u'promoted_content': None}, {u'url': u'http://twitter.com/search?q=%23LABCsummit16', u'query': u'%23LABCsummit16', u'tweet_volume': None, u'name': u'#LABCsummit16', u'promoted_content': None}, {u'url': u'http://twitter.com/search?q=%23Gradbash2k16', u'query': u'%23Gradbash2k16', u'tweet_volume': None, u'name': u'#Gradbash2k16', u'promoted_content': None}, {u'url': u'http://twitter.com/search?q=%23Muse16', u'query': u'%23Muse16', u'tweet_volume': None, u'name': u'#Muse16', u'promoted_content': None}, {u'url': u'http://twitter.com/search?q=%23newmusicfriday', u'query': u'%23newmusicfriday', u'tweet_volume': None, u'name': u'#newmusicfriday', u'promoted_content': None}, {u'url': u'http://twitter.com/search?q=%23HomeDay', u'query': u'%23HomeDay', u'tweet_volume': 209277, u'name': u'#HomeDay', u'promoted_content': None}, {u'url': u'http://twitter.com/search?q=%23TigerJam', u'query': u'%23TigerJam', u'tweet_volume': None, u'name': u'#TigerJam', u'promoted_content': None}, {u'url': u'http://twitter.com/search?q=%23FoodieFriday', u'query': u'%23FoodieFriday', u'tweet_volume': None, u'name': u'#FoodieFriday', u'promoted_content': None}, {u'url': u'http://twitter.com/search?q=%23ForgiveMeButI', u'query': u'%23ForgiveMeButI', u'tweet_volume': None, u'name': u'#ForgiveMeButI', u'promoted_content': None}, {u'url': u'http://twitter.com/search?q=%23ImSoUglyINeed', u'query': u'%23ImSoUglyINeed', u'tweet_volume': None, u'name': u'#ImSoUglyINeed', u'promoted_content': None}, {u'url': u'http://twitter.com/search?q=%23WillieNelson', u'query': u'%23WillieNelson', u'tweet_volume': None, u'name': u'#WillieNelson', u'promoted_content': None}, {u'url': u'http://twitter.com/search?q=%23OneThingILoveAboutMyself', u'query': u'%23OneThingILoveAboutMyself', u'tweet_volume': None, u'name': u'#OneThingILoveAboutMyself', u'promoted_content': None}], u'as_of': u'2016-04-29T18:49:59Z', u'locations': [{u'woeid': 23424977, u'name': u'United States'}]}]\n"
     ]
    }
   ],
   "source": [
    "#We print data first and go through it \n",
    "print api.trends_place(id = 23424977)"
   ]
  },
  {
   "cell_type": "markdown",
   "metadata": {},
   "source": [
    "## We understand from data above that api.trends_place() returns a list contains only one item and this item is in JSON format .\n",
    "## Second key in JSON object is 'trends' and it is a list of all_trends exist "
   ]
  },
  {
   "cell_type": "code",
   "execution_count": 4,
   "metadata": {
    "collapsed": true
   },
   "outputs": [],
   "source": [
    "#by default N=1\n",
    "def Get_Trend(N=0,id = 23424977): \n",
    "    # WOEID = 23424977 ==> US\n",
    "    trends =  api.trends_place(id)\n",
    "    json_data = trends[0]             #the first item(the only item) \n",
    "    all_trends = json_data['trends']  #list of all trends \n",
    "    trend_N = all_trends[N]           #trend N\n",
    "    return trend_N['query']           #query name ,so it will be easy to serch for! \n"
   ]
  },
  {
   "cell_type": "markdown",
   "metadata": {},
   "source": [
    "## Step 4: Download the data in that trend\n",
    "We can get a good amount of data to use it for the purpose of analysis.For this I'll download first 1000 tweet based on  search query(trend_N)\n",
    "* Note : it may take a while"
   ]
  },
  {
   "cell_type": "code",
   "execution_count": 10,
   "metadata": {
    "collapsed": false
   },
   "outputs": [
    {
     "name": "stdout",
     "output_type": "stream",
     "text": [
      "1000\n",
      "%23InternationalDanceDay\n"
     ]
    }
   ],
   "source": [
    "results = []\n",
    "\n",
    "#Get the first 1000 items based on the search query(trend_1)\n",
    "for tweet in tweepy.Cursor(api.search, q=str(Get_Trend(0,23424977))).items(1000):\n",
    "    results.append(tweet)\n",
    "\n",
    "# Verify the number of items returned\n",
    "print len(results)\n",
    "#Trend name, %23 for #\n",
    "print str(Get_Trend(0,23424977))"
   ]
  },
  {
   "cell_type": "markdown",
   "metadata": {},
   "source": [
    "## Step 5: Manipulate the data\n",
    "Now I have my data, but as it is in JSON format it will be somewhat hard to utilize for data analysis. We have to separate out only the data which is required for the analysis. \n",
    "To do so, we'll use the pandas library of Python"
   ]
  },
  {
   "cell_type": "code",
   "execution_count": 11,
   "metadata": {
    "collapsed": true
   },
   "outputs": [],
   "source": [
    "def toDataFrame(tweets):\n",
    "# Create a function to convert a given list of tweets into a Pandas DataFrame.\n",
    "\n",
    "    DataSet = pd.DataFrame()\n",
    "\n",
    "    DataSet['tweetID'] = [tweet.id for tweet in tweets]\n",
    "    DataSet['tweetText'] = [tweet.text for tweet in tweets]\n",
    "    DataSet['tweetRetweetCt'] = [tweet.retweet_count for tweet in tweets]\n",
    "    DataSet['tweetFavoriteCt'] = [tweet.favorite_count for tweet in tweets]\n",
    "    DataSet['tweetSource'] = [tweet.source for tweet in tweets]\n",
    "    DataSet['tweetCreated'] = [tweet.created_at for tweet in tweets]\n",
    "    DataSet['userID'] = [tweet.user.id for tweet in tweets]\n",
    "    DataSet['userScreen'] = [tweet.user.screen_name for tweet in tweets]\n",
    "    DataSet['userName'] = [tweet.user.name for tweet in tweets]\n",
    "    DataSet['userCreateDt'] = [tweet.user.created_at for tweet in tweets]\n",
    "    DataSet['userDesc'] = [tweet.user.description for tweet in tweets]\n",
    "    DataSet['userFollowerCt'] = [tweet.user.followers_count for tweet in tweets]\n",
    "    DataSet['userFriendsCt'] = [tweet.user.friends_count for tweet in tweets]\n",
    "    DataSet['userLocation'] = [tweet.user.location for tweet in tweets]\n",
    "    DataSet['userTimezone'] = [tweet.user.time_zone for tweet in tweets]\n",
    "    DataSet['userLanguage'] = [tweet.user.lang for tweet in tweets]\n",
    "    return DataSet"
   ]
  },
  {
   "cell_type": "code",
   "execution_count": 12,
   "metadata": {
    "collapsed": false
   },
   "outputs": [
    {
     "data": {
      "text/html": [
       "<div>\n",
       "<table border=\"1\" class=\"dataframe\">\n",
       "  <thead>\n",
       "    <tr style=\"text-align: right;\">\n",
       "      <th></th>\n",
       "      <th>tweetID</th>\n",
       "      <th>tweetText</th>\n",
       "      <th>tweetRetweetCt</th>\n",
       "      <th>tweetFavoriteCt</th>\n",
       "      <th>tweetSource</th>\n",
       "      <th>tweetCreated</th>\n",
       "      <th>userID</th>\n",
       "      <th>userScreen</th>\n",
       "      <th>userName</th>\n",
       "      <th>userCreateDt</th>\n",
       "      <th>userDesc</th>\n",
       "      <th>userFollowerCt</th>\n",
       "      <th>userFriendsCt</th>\n",
       "      <th>userLocation</th>\n",
       "      <th>userTimezone</th>\n",
       "      <th>userLanguage</th>\n",
       "    </tr>\n",
       "  </thead>\n",
       "  <tbody>\n",
       "    <tr>\n",
       "      <th>0</th>\n",
       "      <td>726124965913878529</td>\n",
       "      <td>Happy #InternationalDanceDay 💃💃❤❤</td>\n",
       "      <td>0</td>\n",
       "      <td>0</td>\n",
       "      <td>Twitter for Android</td>\n",
       "      <td>2016-04-29 19:04:17</td>\n",
       "      <td>2631778625</td>\n",
       "      <td>dina_aldrich</td>\n",
       "      <td>Dina</td>\n",
       "      <td>2014-06-22 16:24:37</td>\n",
       "      <td></td>\n",
       "      <td>288</td>\n",
       "      <td>259</td>\n",
       "      <td>England</td>\n",
       "      <td>None</td>\n",
       "      <td>en-gb</td>\n",
       "    </tr>\n",
       "    <tr>\n",
       "      <th>1</th>\n",
       "      <td>726124963665743872</td>\n",
       "      <td>RT @Blizzard_Ent: #InternationalDanceDay?! Yes...</td>\n",
       "      <td>26</td>\n",
       "      <td>0</td>\n",
       "      <td>Twitter Web Client</td>\n",
       "      <td>2016-04-29 19:04:16</td>\n",
       "      <td>396983660</td>\n",
       "      <td>NuevoTristan</td>\n",
       "      <td>Nuevo Tristan</td>\n",
       "      <td>2011-10-24 02:14:21</td>\n",
       "      <td>Primer fansite oficial de Diablo 3 en Chile y ...</td>\n",
       "      <td>918</td>\n",
       "      <td>161</td>\n",
       "      <td>Santiago, Chile</td>\n",
       "      <td>Santiago</td>\n",
       "      <td>es</td>\n",
       "    </tr>\n",
       "    <tr>\n",
       "      <th>2</th>\n",
       "      <td>726124962680070145</td>\n",
       "      <td>RT @BFI: The bank holiday #FridayFeeling on #I...</td>\n",
       "      <td>42</td>\n",
       "      <td>0</td>\n",
       "      <td>Twitter for Android</td>\n",
       "      <td>2016-04-29 19:04:16</td>\n",
       "      <td>3089650444</td>\n",
       "      <td>NAlterra</td>\n",
       "      <td>N.Berthworth</td>\n",
       "      <td>2015-03-12 18:46:04</td>\n",
       "      <td>make-up artist, hairstylist for theatre and ad...</td>\n",
       "      <td>136</td>\n",
       "      <td>457</td>\n",
       "      <td>London, England</td>\n",
       "      <td>None</td>\n",
       "      <td>de</td>\n",
       "    </tr>\n",
       "    <tr>\n",
       "      <th>3</th>\n",
       "      <td>726124962612830208</td>\n",
       "      <td>RT @CMitch3505: #InternationalDanceDay Dawgs a...</td>\n",
       "      <td>25</td>\n",
       "      <td>0</td>\n",
       "      <td>Twitter for iPhone</td>\n",
       "      <td>2016-04-29 19:04:16</td>\n",
       "      <td>912459750</td>\n",
       "      <td>OliviaHermann</td>\n",
       "      <td>Olivia Hermann</td>\n",
       "      <td>2012-10-29 13:41:01</td>\n",
       "      <td>UW | ΚΚΓ</td>\n",
       "      <td>544</td>\n",
       "      <td>189</td>\n",
       "      <td>University of Washington</td>\n",
       "      <td>None</td>\n",
       "      <td>en</td>\n",
       "    </tr>\n",
       "    <tr>\n",
       "      <th>4</th>\n",
       "      <td>726124958921838593</td>\n",
       "      <td>RT @littleBits: Need a dancing partner? Turn u...</td>\n",
       "      <td>2</td>\n",
       "      <td>0</td>\n",
       "      <td>Twitter Web Client</td>\n",
       "      <td>2016-04-29 19:04:15</td>\n",
       "      <td>12021482</td>\n",
       "      <td>RemixCity</td>\n",
       "      <td>RemixCity</td>\n",
       "      <td>2008-01-09 11:02:18</td>\n",
       "      <td>Blazing Music Nonstop! Entrepreneur + Engineer...</td>\n",
       "      <td>882</td>\n",
       "      <td>2707</td>\n",
       "      <td>Miami Houston NYC | JAMAICA</td>\n",
       "      <td>Eastern Time (US &amp; Canada)</td>\n",
       "      <td>en</td>\n",
       "    </tr>\n",
       "  </tbody>\n",
       "</table>\n",
       "</div>"
      ],
      "text/plain": [
       "              tweetID                                          tweetText  \\\n",
       "0  726124965913878529                  Happy #InternationalDanceDay 💃💃❤❤   \n",
       "1  726124963665743872  RT @Blizzard_Ent: #InternationalDanceDay?! Yes...   \n",
       "2  726124962680070145  RT @BFI: The bank holiday #FridayFeeling on #I...   \n",
       "3  726124962612830208  RT @CMitch3505: #InternationalDanceDay Dawgs a...   \n",
       "4  726124958921838593  RT @littleBits: Need a dancing partner? Turn u...   \n",
       "\n",
       "   tweetRetweetCt  tweetFavoriteCt          tweetSource        tweetCreated  \\\n",
       "0               0                0  Twitter for Android 2016-04-29 19:04:17   \n",
       "1              26                0   Twitter Web Client 2016-04-29 19:04:16   \n",
       "2              42                0  Twitter for Android 2016-04-29 19:04:16   \n",
       "3              25                0   Twitter for iPhone 2016-04-29 19:04:16   \n",
       "4               2                0   Twitter Web Client 2016-04-29 19:04:15   \n",
       "\n",
       "       userID     userScreen        userName        userCreateDt  \\\n",
       "0  2631778625   dina_aldrich            Dina 2014-06-22 16:24:37   \n",
       "1   396983660   NuevoTristan   Nuevo Tristan 2011-10-24 02:14:21   \n",
       "2  3089650444       NAlterra    N.Berthworth 2015-03-12 18:46:04   \n",
       "3   912459750  OliviaHermann  Olivia Hermann 2012-10-29 13:41:01   \n",
       "4    12021482      RemixCity       RemixCity 2008-01-09 11:02:18   \n",
       "\n",
       "                                            userDesc  userFollowerCt  \\\n",
       "0                                                                288   \n",
       "1  Primer fansite oficial de Diablo 3 en Chile y ...             918   \n",
       "2  make-up artist, hairstylist for theatre and ad...             136   \n",
       "3                                           UW | ΚΚΓ             544   \n",
       "4  Blazing Music Nonstop! Entrepreneur + Engineer...             882   \n",
       "\n",
       "   userFriendsCt                 userLocation                userTimezone  \\\n",
       "0            259                      England                        None   \n",
       "1            161              Santiago, Chile                    Santiago   \n",
       "2            457              London, England                        None   \n",
       "3            189     University of Washington                        None   \n",
       "4           2707  Miami Houston NYC | JAMAICA  Eastern Time (US & Canada)   \n",
       "\n",
       "  userLanguage  \n",
       "0        en-gb  \n",
       "1           es  \n",
       "2           de  \n",
       "3           en  \n",
       "4           en  "
      ]
     },
     "execution_count": 12,
     "metadata": {},
     "output_type": "execute_result"
    }
   ],
   "source": [
    "#Pass the tweets list to the above function to create a DataFrame\n",
    "DataSet = toDataFrame(results)\n",
    "#Visualize \n",
    "DataSet.head(5)"
   ]
  },
  {
   "cell_type": "markdown",
   "metadata": {},
   "source": [
    "## Step 6: Clean the data \n",
    "This step is required so that we only use valid values/records in our data and neglect the invalid values/records as they don't have any significance and also so that they don't have any negative impact on our results or analysis"
   ]
  },
  {
   "cell_type": "code",
   "execution_count": 13,
   "metadata": {
    "collapsed": false,
    "scrolled": true
   },
   "outputs": [
    {
     "data": {
      "text/plain": [
       "575"
      ]
     },
     "execution_count": 13,
     "metadata": {},
     "output_type": "execute_result"
    }
   ],
   "source": [
    "DataSet = DataSet[DataSet.userTimezone.notnull()]\n",
    "len(DataSet)"
   ]
  },
  {
   "cell_type": "code",
   "execution_count": 14,
   "metadata": {
    "collapsed": false
   },
   "outputs": [
    {
     "name": "stdout",
     "output_type": "stream",
     "text": [
      "Pacific Time (US & Canada)     123\n",
      "Eastern Time (US & Canada)     109\n",
      "Central Time (US & Canada)      59\n",
      "London                          40\n",
      "Quito                           19\n",
      "Atlantic Time (Canada)          17\n",
      "Arizona                         17\n",
      "Mountain Time (US & Canada)     12\n",
      "Athens                          12\n",
      "Buenos Aires                    12\n",
      "Name: userTimezone, dtype: int64\n"
     ]
    }
   ],
   "source": [
    "# Count the number of tweets in each time zone and get the first 10\n",
    "timezone_count = DataSet['userTimezone'].value_counts()[:10]\n",
    "print timezone_count"
   ]
  },
  {
   "cell_type": "markdown",
   "metadata": {},
   "source": [
    "## Step 7: Data visualization\n",
    "These top 10 are shown in the table format above. But a table is not always a good way of representing data, so we'll plot this data on a bar-graph to make it more presentable and understanding to the users"
   ]
  },
  {
   "cell_type": "code",
   "execution_count": 17,
   "metadata": {
    "collapsed": false
   },
   "outputs": [
    {
     "data": {
      "text/plain": [
       "<matplotlib.text.Text at 0x7fb8dc26cf10>"
      ]
     },
     "execution_count": 17,
     "metadata": {},
     "output_type": "execute_result"
    },
    {
     "name": "stderr",
     "output_type": "stream",
     "text": [
      "/home/vulture/anaconda/conda/envs/dato-env/lib/python2.7/site-packages/matplotlib/font_manager.py:1288: UserWarning: findfont: Font family [u'monospace'] not found. Falling back to Bitstream Vera Sans\n",
      "  (prop.get_family(), self.defaultFamily[fontext]))\n"
     ]
    },
    {
     "data": {
      "image/png": "[encoded data removed]",
      "text/plain": [
       "<matplotlib.figure.Figure at 0x7fb8dd029e90>"
      ]
     },
     "metadata": {},
     "output_type": "display_data"
    }
   ],
   "source": [
    "# Create a bar-graph figure of the specified size\n",
    "plt.rcParams['figure.figsize'] = (15, 5)\n",
    "\n",
    "# Plot the Time Zone data as a bar-graph\n",
    "timezone_count.plot(kind='bar')\n",
    "\n",
    "\n",
    "# Assign labels and title to the graph to make it more presentable\n",
    "plt.xlabel('Timezones')\n",
    "plt.ylabel('Tweet Count')\n",
    "plt.title('Top 10 Timezones tweeting about #FridayFeeling')\n"
   ]
  },
  {
   "cell_type": "code",
   "execution_count": 18,
   "metadata": {
    "collapsed": false
   },
   "outputs": [
    {
     "data": {
      "text/plain": [
       "575"
      ]
     },
     "execution_count": 18,
     "metadata": {},
     "output_type": "execute_result"
    }
   ],
   "source": [
    "DataSet = DataSet[DataSet.userLanguage.notnull()]\n",
    "len(DataSet)"
   ]
  },
  {
   "cell_type": "code",
   "execution_count": 19,
   "metadata": {
    "collapsed": false
   },
   "outputs": [
    {
     "data": {
      "text/plain": [
       "en    445\n",
       "es     56\n",
       "pt     16\n",
       "fr     12\n",
       "Name: userLanguage, dtype: int64"
      ]
     },
     "execution_count": 19,
     "metadata": {},
     "output_type": "execute_result"
    }
   ],
   "source": [
    "# Count the number of tweets for each language and get the first 4\n",
    "language_count = DataSet['userLanguage'].value_counts()[:4]\n",
    "language_count"
   ]
  },
  {
   "cell_type": "code",
   "execution_count": 20,
   "metadata": {
    "collapsed": false
   },
   "outputs": [
    {
     "data": {
      "text/plain": [
       "<matplotlib.text.Text at 0x7fb8dc10f5d0>"
      ]
     },
     "execution_count": 20,
     "metadata": {},
     "output_type": "execute_result"
    },
    {
     "data": {
      "image/png": "[encoded data removed]",
      "text/plain": [
       "<matplotlib.figure.Figure at 0x7fb8ddf52950>"
      ]
     },
     "metadata": {},
     "output_type": "display_data"
    }
   ],
   "source": [
    "# Create a bar-graph figure of the specified size\n",
    "plt.rcParams['figure.figsize'] = (10, 5)\n",
    "\n",
    "# Plot the language data as a bar-graph\n",
    "language_count.plot(kind='bar')\n",
    "\n",
    "\n",
    "# Assign labels and title to the graph to make it more presentable\n",
    "plt.xlabel('Languages')\n",
    "plt.ylabel('Tweet Count')\n",
    "plt.title('Top 4 Languages tweeting about #FridayFeeling')\n"
   ]
  },
  {
   "cell_type": "markdown",
   "metadata": {},
   "source": [
    "This make sense because we are interestesd only in US trend"
   ]
  },
  {
   "cell_type": "markdown",
   "metadata": {},
   "source": [
    "# Another application \n",
    "We will analyse data in 4th trend in \"Worldwide\""
   ]
  },
  {
   "cell_type": "code",
   "execution_count": 33,
   "metadata": {
    "collapsed": false
   },
   "outputs": [
    {
     "name": "stdout",
     "output_type": "stream",
     "text": [
      "1000\n",
      "%23PSGSRFC\n"
     ]
    }
   ],
   "source": [
    "results = []\n",
    "\n",
    "#Get the first 1000 items based on the search query(trend_1)\n",
    "for tweet in tweepy.Cursor(api.search, q=str(Get_Trend(3,1))).items(1000):\n",
    "    results.append(tweet)\n",
    "\n",
    "# Verify the number of items returned\n",
    "print len(results)\n",
    "#Trend name, %23 for #\n",
    "print str(Get_Trend(3,1))"
   ]
  },
  {
   "cell_type": "code",
   "execution_count": 34,
   "metadata": {
    "collapsed": false
   },
   "outputs": [
    {
     "data": {
      "text/html": [
       "<div>\n",
       "<table border=\"1\" class=\"dataframe\">\n",
       "  <thead>\n",
       "    <tr style=\"text-align: right;\">\n",
       "      <th></th>\n",
       "      <th>tweetID</th>\n",
       "      <th>tweetText</th>\n",
       "      <th>tweetRetweetCt</th>\n",
       "      <th>tweetFavoriteCt</th>\n",
       "      <th>tweetSource</th>\n",
       "      <th>tweetCreated</th>\n",
       "      <th>userID</th>\n",
       "      <th>userScreen</th>\n",
       "      <th>userName</th>\n",
       "      <th>userCreateDt</th>\n",
       "      <th>userDesc</th>\n",
       "      <th>userFollowerCt</th>\n",
       "      <th>userFriendsCt</th>\n",
       "      <th>userLocation</th>\n",
       "      <th>userTimezone</th>\n",
       "      <th>userLanguage</th>\n",
       "    </tr>\n",
       "  </thead>\n",
       "  <tbody>\n",
       "    <tr>\n",
       "      <th>0</th>\n",
       "      <td>726149052790915073</td>\n",
       "      <td>RT @PSG_inside: La célébration de @Ibra_offici...</td>\n",
       "      <td>207</td>\n",
       "      <td>0</td>\n",
       "      <td>Twitter for iPhone</td>\n",
       "      <td>2016-04-29 20:40:00</td>\n",
       "      <td>704667131712032768</td>\n",
       "      <td>SolinsonLoulie</td>\n",
       "      <td>Soldy</td>\n",
       "      <td>2016-03-01 13:58:31</td>\n",
       "      <td>David Luiz, Zlatan, Gigi, PSG, Juventus ⚽️ 1D,...</td>\n",
       "      <td>160</td>\n",
       "      <td>380</td>\n",
       "      <td>On the road again</td>\n",
       "      <td>None</td>\n",
       "      <td>en</td>\n",
       "    </tr>\n",
       "    <tr>\n",
       "      <th>1</th>\n",
       "      <td>726149049699672065</td>\n",
       "      <td>RT @PSG_inside: 56' Le @PSG_inside mène 2-0 fa...</td>\n",
       "      <td>209</td>\n",
       "      <td>0</td>\n",
       "      <td>Twitter for iPad</td>\n",
       "      <td>2016-04-29 20:39:59</td>\n",
       "      <td>3973899095</td>\n",
       "      <td>DavidLafargePok</td>\n",
       "      <td>Louis</td>\n",
       "      <td>2015-10-16 18:31:47</td>\n",
       "      <td></td>\n",
       "      <td>56</td>\n",
       "      <td>174</td>\n",
       "      <td></td>\n",
       "      <td>None</td>\n",
       "      <td>fr</td>\n",
       "    </tr>\n",
       "    <tr>\n",
       "      <th>2</th>\n",
       "      <td>726149044507172864</td>\n",
       "      <td>RT @PSG_inside: Gooooooooooooooooooooooooooaaa...</td>\n",
       "      <td>362</td>\n",
       "      <td>0</td>\n",
       "      <td>Twitter for iPhone</td>\n",
       "      <td>2016-04-29 20:39:58</td>\n",
       "      <td>128658626</td>\n",
       "      <td>johafonso</td>\n",
       "      <td>Joh</td>\n",
       "      <td>2010-04-01 20:11:35</td>\n",
       "      <td>- Insta: johafonso | #Football ⚽️</td>\n",
       "      <td>573</td>\n",
       "      <td>278</td>\n",
       "      <td></td>\n",
       "      <td>Greenland</td>\n",
       "      <td>fr</td>\n",
       "    </tr>\n",
       "    <tr>\n",
       "      <th>3</th>\n",
       "      <td>726149037246799876</td>\n",
       "      <td>RT @le_Parisien_PSG: Sylvain Armand sort sous ...</td>\n",
       "      <td>51</td>\n",
       "      <td>0</td>\n",
       "      <td>Twitter for iPhone</td>\n",
       "      <td>2016-04-29 20:39:56</td>\n",
       "      <td>327656616</td>\n",
       "      <td>NeoZlatan</td>\n",
       "      <td>Mr Mayor</td>\n",
       "      <td>2011-07-01 22:49:33</td>\n",
       "      <td>Ma vie a changé depuis le jour où j'ai rencont...</td>\n",
       "      <td>589</td>\n",
       "      <td>303</td>\n",
       "      <td>Dans Un Univers Parallèle</td>\n",
       "      <td>Paris</td>\n",
       "      <td>fr</td>\n",
       "    </tr>\n",
       "    <tr>\n",
       "      <th>4</th>\n",
       "      <td>726149036097568768</td>\n",
       "      <td>RT @YonKab64: Défaite 4-0 des hommes de Courbi...</td>\n",
       "      <td>34</td>\n",
       "      <td>0</td>\n",
       "      <td>Twitter for Android</td>\n",
       "      <td>2016-04-29 20:39:56</td>\n",
       "      <td>378199424</td>\n",
       "      <td>SarahEstrozizi</td>\n",
       "      <td>Sarah Estrozizi</td>\n",
       "      <td>2011-09-22 20:15:07</td>\n",
       "      <td>Eric Cartman au féminin avec un maillot phocéen.</td>\n",
       "      <td>1942</td>\n",
       "      <td>287</td>\n",
       "      <td>Avignon</td>\n",
       "      <td>Paris</td>\n",
       "      <td>fr</td>\n",
       "    </tr>\n",
       "  </tbody>\n",
       "</table>\n",
       "</div>"
      ],
      "text/plain": [
       "              tweetID                                          tweetText  \\\n",
       "0  726149052790915073  RT @PSG_inside: La célébration de @Ibra_offici...   \n",
       "1  726149049699672065  RT @PSG_inside: 56' Le @PSG_inside mène 2-0 fa...   \n",
       "2  726149044507172864  RT @PSG_inside: Gooooooooooooooooooooooooooaaa...   \n",
       "3  726149037246799876  RT @le_Parisien_PSG: Sylvain Armand sort sous ...   \n",
       "4  726149036097568768  RT @YonKab64: Défaite 4-0 des hommes de Courbi...   \n",
       "\n",
       "   tweetRetweetCt  tweetFavoriteCt          tweetSource        tweetCreated  \\\n",
       "0             207                0   Twitter for iPhone 2016-04-29 20:40:00   \n",
       "1             209                0     Twitter for iPad 2016-04-29 20:39:59   \n",
       "2             362                0   Twitter for iPhone 2016-04-29 20:39:58   \n",
       "3              51                0   Twitter for iPhone 2016-04-29 20:39:56   \n",
       "4              34                0  Twitter for Android 2016-04-29 20:39:56   \n",
       "\n",
       "               userID       userScreen         userName        userCreateDt  \\\n",
       "0  704667131712032768   SolinsonLoulie            Soldy 2016-03-01 13:58:31   \n",
       "1          3973899095  DavidLafargePok            Louis 2015-10-16 18:31:47   \n",
       "2           128658626        johafonso              Joh 2010-04-01 20:11:35   \n",
       "3           327656616        NeoZlatan         Mr Mayor 2011-07-01 22:49:33   \n",
       "4           378199424   SarahEstrozizi  Sarah Estrozizi 2011-09-22 20:15:07   \n",
       "\n",
       "                                            userDesc  userFollowerCt  \\\n",
       "0  David Luiz, Zlatan, Gigi, PSG, Juventus ⚽️ 1D,...             160   \n",
       "1                                                                 56   \n",
       "2                  - Insta: johafonso | #Football ⚽️             573   \n",
       "3  Ma vie a changé depuis le jour où j'ai rencont...             589   \n",
       "4   Eric Cartman au féminin avec un maillot phocéen.            1942   \n",
       "\n",
       "   userFriendsCt               userLocation userTimezone userLanguage  \n",
       "0            380          On the road again         None           en  \n",
       "1            174                                    None           fr  \n",
       "2            278                               Greenland           fr  \n",
       "3            303  Dans Un Univers Parallèle        Paris           fr  \n",
       "4            287                    Avignon        Paris           fr  "
      ]
     },
     "execution_count": 34,
     "metadata": {},
     "output_type": "execute_result"
    }
   ],
   "source": [
    "#Pass the tweets list to the above function to create a DataFrame\n",
    "DataSet2 = toDataFrame(results)\n",
    "#Visualize \n",
    "DataSet2.head(5)"
   ]
  },
  {
   "cell_type": "code",
   "execution_count": 35,
   "metadata": {
    "collapsed": false
   },
   "outputs": [
    {
     "data": {
      "text/plain": [
       "515"
      ]
     },
     "execution_count": 35,
     "metadata": {},
     "output_type": "execute_result"
    }
   ],
   "source": [
    "timezone2 = DataSet2[DataSet2.userTimezone.notnull()]\n",
    "len(timezone2)"
   ]
  },
  {
   "cell_type": "code",
   "execution_count": 36,
   "metadata": {
    "collapsed": false
   },
   "outputs": [
    {
     "name": "stdout",
     "output_type": "stream",
     "text": [
      "Paris                         186\n",
      "Pacific Time (US & Canada)     81\n",
      "Athens                         78\n",
      "Amsterdam                      68\n",
      "Ljubljana                      15\n",
      "Greenland                      14\n",
      "Belgrade                        9\n",
      "Hawaii                          9\n",
      "Brasilia                        5\n",
      "Madrid                          4\n",
      "Name: userTimezone, dtype: int64\n"
     ]
    }
   ],
   "source": [
    "# Count the number of tweets in each time zone and get the first 10\n",
    "timezone_count2 = timezone2['userTimezone'].value_counts()[:10]\n",
    "print timezone_count2"
   ]
  },
  {
   "cell_type": "code",
   "execution_count": 37,
   "metadata": {
    "collapsed": false
   },
   "outputs": [
    {
     "data": {
      "text/plain": [
       "1000"
      ]
     },
     "execution_count": 37,
     "metadata": {},
     "output_type": "execute_result"
    }
   ],
   "source": [
    "language_data2 = DataSet2[DataSet.userLanguage.notnull()]\n",
    "len(language_data2)"
   ]
  },
  {
   "cell_type": "code",
   "execution_count": 38,
   "metadata": {
    "collapsed": false
   },
   "outputs": [
    {
     "data": {
      "text/plain": [
       "fr    867\n",
       "en     94\n",
       "es     13\n",
       "pt      8\n",
       "Name: userLanguage, dtype: int64"
      ]
     },
     "execution_count": 38,
     "metadata": {},
     "output_type": "execute_result"
    }
   ],
   "source": [
    "# Count the number of tweets for each language and get the first 4\n",
    "language_count2 = DataSet2['userLanguage'].value_counts()[:4]\n",
    "language_count2"
   ]
  },
  {
   "cell_type": "code",
   "execution_count": 39,
   "metadata": {
    "collapsed": false
   },
   "outputs": [
    {
     "data": {
      "text/plain": [
       "<matplotlib.text.Text at 0x7fb8d9bdff90>"
      ]
     },
     "execution_count": 39,
     "metadata": {},
     "output_type": "execute_result"
    },
    {
     "data": {
      "image/png": "[encoded data removed]",
      "text/plain": [
       "<matplotlib.figure.Figure at 0x7fb8ddf3c590>"
      ]
     },
     "metadata": {},
     "output_type": "display_data"
    }
   ],
   "source": [
    "# Create a bar-graph figure of the specified size\n",
    "plt.rcParams['figure.figsize'] = (10, 5)\n",
    "\n",
    "# Plot the Language data as a bar-graph\n",
    "language_count2.plot(kind='bar')\n",
    "\n",
    "\n",
    "# Assign labels and title to the graph to make it more presentable\n",
    "plt.xlabel('Languages')\n",
    "plt.ylabel('Tweet Count')\n",
    "plt.title('Top 4 Languages tweeting about #PSGSRFC')\n"
   ]
  },
  {
   "cell_type": "markdown",
   "metadata": {},
   "source": [
    "# The French champions cruised to victory at Parc des Princes \n",
    "## PSG - SRFC\n",
    "##    4     -    0 \n",
    "\n",
    "Goals scored by:\n",
    "\n",
    "* Ibrahimovic 2-goals\n",
    "* Maxwell\n",
    "* Cavani\n",
    "\n",
    "Our main goal in this text mining task is: compare the popularity of 3 players this day "
   ]
  },
  {
   "cell_type": "markdown",
   "metadata": {},
   "source": [
    "First, we will create a function that checks if a specific keyword is present in a text. We will do this by using regular expressions. Python provides a library for regular expression called re."
   ]
  },
  {
   "cell_type": "code",
   "execution_count": 40,
   "metadata": {
    "collapsed": true
   },
   "outputs": [],
   "source": [
    "import re\n",
    "def word_in_text(word, text):\n",
    "    word = word.lower()\n",
    "    text = text.lower()\n",
    "    match = re.search(word, text)\n",
    "    if match:\n",
    "        return True\n",
    "    return False\n"
   ]
  },
  {
   "cell_type": "code",
   "execution_count": 41,
   "metadata": {
    "collapsed": true
   },
   "outputs": [],
   "source": [
    "DataSet2['Ibrahimovic'] = DataSet2['tweetText'].apply(lambda tweet: word_in_text('Ibrahimovic', tweet))"
   ]
  },
  {
   "cell_type": "code",
   "execution_count": 42,
   "metadata": {
    "collapsed": true
   },
   "outputs": [],
   "source": [
    "DataSet2['Maxwell'] = DataSet2['tweetText'].apply(lambda tweet: word_in_text('Maxwell', tweet))"
   ]
  },
  {
   "cell_type": "code",
   "execution_count": 48,
   "metadata": {
    "collapsed": true
   },
   "outputs": [],
   "source": [
    "DataSet2['Cavani'] = DataSet2['tweetText'].apply(lambda tweet: word_in_text('Cavani', tweet))"
   ]
  },
  {
   "cell_type": "code",
   "execution_count": 49,
   "metadata": {
    "collapsed": false
   },
   "outputs": [
    {
     "data": {
      "text/html": [
       "<div>\n",
       "<table border=\"1\" class=\"dataframe\">\n",
       "  <thead>\n",
       "    <tr style=\"text-align: right;\">\n",
       "      <th></th>\n",
       "      <th>tweetID</th>\n",
       "      <th>tweetText</th>\n",
       "      <th>tweetRetweetCt</th>\n",
       "      <th>tweetFavoriteCt</th>\n",
       "      <th>tweetSource</th>\n",
       "      <th>tweetCreated</th>\n",
       "      <th>userID</th>\n",
       "      <th>userScreen</th>\n",
       "      <th>userName</th>\n",
       "      <th>userCreateDt</th>\n",
       "      <th>userDesc</th>\n",
       "      <th>userFollowerCt</th>\n",
       "      <th>userFriendsCt</th>\n",
       "      <th>userLocation</th>\n",
       "      <th>userTimezone</th>\n",
       "      <th>userLanguage</th>\n",
       "      <th>Ibrahimovic</th>\n",
       "      <th>Maxwell</th>\n",
       "      <th>Cavani</th>\n",
       "    </tr>\n",
       "  </thead>\n",
       "  <tbody>\n",
       "    <tr>\n",
       "      <th>0</th>\n",
       "      <td>726149052790915073</td>\n",
       "      <td>RT @PSG_inside: La célébration de @Ibra_offici...</td>\n",
       "      <td>207</td>\n",
       "      <td>0</td>\n",
       "      <td>Twitter for iPhone</td>\n",
       "      <td>2016-04-29 20:40:00</td>\n",
       "      <td>704667131712032768</td>\n",
       "      <td>SolinsonLoulie</td>\n",
       "      <td>Soldy</td>\n",
       "      <td>2016-03-01 13:58:31</td>\n",
       "      <td>David Luiz, Zlatan, Gigi, PSG, Juventus ⚽️ 1D,...</td>\n",
       "      <td>160</td>\n",
       "      <td>380</td>\n",
       "      <td>On the road again</td>\n",
       "      <td>None</td>\n",
       "      <td>en</td>\n",
       "      <td>False</td>\n",
       "      <td>False</td>\n",
       "      <td>False</td>\n",
       "    </tr>\n",
       "    <tr>\n",
       "      <th>1</th>\n",
       "      <td>726149049699672065</td>\n",
       "      <td>RT @PSG_inside: 56' Le @PSG_inside mène 2-0 fa...</td>\n",
       "      <td>209</td>\n",
       "      <td>0</td>\n",
       "      <td>Twitter for iPad</td>\n",
       "      <td>2016-04-29 20:39:59</td>\n",
       "      <td>3973899095</td>\n",
       "      <td>DavidLafargePok</td>\n",
       "      <td>Louis</td>\n",
       "      <td>2015-10-16 18:31:47</td>\n",
       "      <td></td>\n",
       "      <td>56</td>\n",
       "      <td>174</td>\n",
       "      <td></td>\n",
       "      <td>None</td>\n",
       "      <td>fr</td>\n",
       "      <td>False</td>\n",
       "      <td>False</td>\n",
       "      <td>False</td>\n",
       "    </tr>\n",
       "    <tr>\n",
       "      <th>2</th>\n",
       "      <td>726149044507172864</td>\n",
       "      <td>RT @PSG_inside: Gooooooooooooooooooooooooooaaa...</td>\n",
       "      <td>362</td>\n",
       "      <td>0</td>\n",
       "      <td>Twitter for iPhone</td>\n",
       "      <td>2016-04-29 20:39:58</td>\n",
       "      <td>128658626</td>\n",
       "      <td>johafonso</td>\n",
       "      <td>Joh</td>\n",
       "      <td>2010-04-01 20:11:35</td>\n",
       "      <td>- Insta: johafonso | #Football ⚽️</td>\n",
       "      <td>573</td>\n",
       "      <td>278</td>\n",
       "      <td></td>\n",
       "      <td>Greenland</td>\n",
       "      <td>fr</td>\n",
       "      <td>False</td>\n",
       "      <td>False</td>\n",
       "      <td>True</td>\n",
       "    </tr>\n",
       "    <tr>\n",
       "      <th>3</th>\n",
       "      <td>726149037246799876</td>\n",
       "      <td>RT @le_Parisien_PSG: Sylvain Armand sort sous ...</td>\n",
       "      <td>51</td>\n",
       "      <td>0</td>\n",
       "      <td>Twitter for iPhone</td>\n",
       "      <td>2016-04-29 20:39:56</td>\n",
       "      <td>327656616</td>\n",
       "      <td>NeoZlatan</td>\n",
       "      <td>Mr Mayor</td>\n",
       "      <td>2011-07-01 22:49:33</td>\n",
       "      <td>Ma vie a changé depuis le jour où j'ai rencont...</td>\n",
       "      <td>589</td>\n",
       "      <td>303</td>\n",
       "      <td>Dans Un Univers Parallèle</td>\n",
       "      <td>Paris</td>\n",
       "      <td>fr</td>\n",
       "      <td>False</td>\n",
       "      <td>False</td>\n",
       "      <td>False</td>\n",
       "    </tr>\n",
       "    <tr>\n",
       "      <th>4</th>\n",
       "      <td>726149036097568768</td>\n",
       "      <td>RT @YonKab64: Défaite 4-0 des hommes de Courbi...</td>\n",
       "      <td>34</td>\n",
       "      <td>0</td>\n",
       "      <td>Twitter for Android</td>\n",
       "      <td>2016-04-29 20:39:56</td>\n",
       "      <td>378199424</td>\n",
       "      <td>SarahEstrozizi</td>\n",
       "      <td>Sarah Estrozizi</td>\n",
       "      <td>2011-09-22 20:15:07</td>\n",
       "      <td>Eric Cartman au féminin avec un maillot phocéen.</td>\n",
       "      <td>1942</td>\n",
       "      <td>287</td>\n",
       "      <td>Avignon</td>\n",
       "      <td>Paris</td>\n",
       "      <td>fr</td>\n",
       "      <td>False</td>\n",
       "      <td>False</td>\n",
       "      <td>False</td>\n",
       "    </tr>\n",
       "  </tbody>\n",
       "</table>\n",
       "</div>"
      ],
      "text/plain": [
       "              tweetID                                          tweetText  \\\n",
       "0  726149052790915073  RT @PSG_inside: La célébration de @Ibra_offici...   \n",
       "1  726149049699672065  RT @PSG_inside: 56' Le @PSG_inside mène 2-0 fa...   \n",
       "2  726149044507172864  RT @PSG_inside: Gooooooooooooooooooooooooooaaa...   \n",
       "3  726149037246799876  RT @le_Parisien_PSG: Sylvain Armand sort sous ...   \n",
       "4  726149036097568768  RT @YonKab64: Défaite 4-0 des hommes de Courbi...   \n",
       "\n",
       "   tweetRetweetCt  tweetFavoriteCt          tweetSource        tweetCreated  \\\n",
       "0             207                0   Twitter for iPhone 2016-04-29 20:40:00   \n",
       "1             209                0     Twitter for iPad 2016-04-29 20:39:59   \n",
       "2             362                0   Twitter for iPhone 2016-04-29 20:39:58   \n",
       "3              51                0   Twitter for iPhone 2016-04-29 20:39:56   \n",
       "4              34                0  Twitter for Android 2016-04-29 20:39:56   \n",
       "\n",
       "               userID       userScreen         userName        userCreateDt  \\\n",
       "0  704667131712032768   SolinsonLoulie            Soldy 2016-03-01 13:58:31   \n",
       "1          3973899095  DavidLafargePok            Louis 2015-10-16 18:31:47   \n",
       "2           128658626        johafonso              Joh 2010-04-01 20:11:35   \n",
       "3           327656616        NeoZlatan         Mr Mayor 2011-07-01 22:49:33   \n",
       "4           378199424   SarahEstrozizi  Sarah Estrozizi 2011-09-22 20:15:07   \n",
       "\n",
       "                                            userDesc  userFollowerCt  \\\n",
       "0  David Luiz, Zlatan, Gigi, PSG, Juventus ⚽️ 1D,...             160   \n",
       "1                                                                 56   \n",
       "2                  - Insta: johafonso | #Football ⚽️             573   \n",
       "3  Ma vie a changé depuis le jour où j'ai rencont...             589   \n",
       "4   Eric Cartman au féminin avec un maillot phocéen.            1942   \n",
       "\n",
       "   userFriendsCt               userLocation userTimezone userLanguage  \\\n",
       "0            380          On the road again         None           en   \n",
       "1            174                                    None           fr   \n",
       "2            278                               Greenland           fr   \n",
       "3            303  Dans Un Univers Parallèle        Paris           fr   \n",
       "4            287                    Avignon        Paris           fr   \n",
       "\n",
       "  Ibrahimovic Maxwell Cavani  \n",
       "0       False   False  False  \n",
       "1       False   False  False  \n",
       "2       False   False   True  \n",
       "3       False   False  False  \n",
       "4       False   False  False  "
      ]
     },
     "execution_count": 49,
     "metadata": {},
     "output_type": "execute_result"
    }
   ],
   "source": [
    "DataSet2.head(5)"
   ]
  },
  {
   "cell_type": "code",
   "execution_count": 50,
   "metadata": {
    "collapsed": false
   },
   "outputs": [
    {
     "name": "stdout",
     "output_type": "stream",
     "text": [
      "37\n",
      "212\n",
      "222\n"
     ]
    }
   ],
   "source": [
    "print DataSet2['Ibrahimovic'].value_counts()[True]\n",
    "print DataSet2['Maxwell'].value_counts()[True]\n",
    "print DataSet2['Cavani'].value_counts()[True]\n"
   ]
  },
  {
   "cell_type": "code",
   "execution_count": 63,
   "metadata": {
    "collapsed": false
   },
   "outputs": [
    {
     "data": {
      "image/png": "[encoded data removed]",
      "text/plain": [
       "<matplotlib.figure.Figure at 0x7fb8d9ab2750>"
      ]
     },
     "metadata": {},
     "output_type": "display_data"
    }
   ],
   "source": [
    "players = ['Ibrahimovic','Maxwell','Cavani']\n",
    "tweets_count = [ DataSet2['Ibrahimovic'].value_counts()[True],\n",
    "                 DataSet2['Maxwell'].value_counts()[True],\n",
    "                 DataSet2['Cavani'].value_counts()[True] ]\n",
    "\n",
    "\n",
    "x_pos = list(range(len(players)))\n",
    "width = 0.2\n",
    "fig, ax = plt.subplots()\n",
    "plt.bar(x_pos, tweets_count, width, alpha=1, color='b')\n",
    "\n",
    "# Setting axis labels and ticks\n",
    "ax.set_ylabel('Number of tweets', fontsize=15)\n",
    "ax.set_title('Popularity: Ibrahimovic vs. Maxwell vs. Cavani', fontsize=10, fontweight='bold')\n",
    "ax.set_xticks([p + 0.4 * width for p in x_pos])\n",
    "ax.set_xticklabels(players)\n",
    "plt.grid()\n"
   ]
  },
  {
   "cell_type": "markdown",
   "metadata": {},
   "source": [
    "# Analysis\n",
    "The most popular player this day is Cavani then Maxwell. \n",
    "Despite Ibrahimovic scored 2 goals ,but he mentioned only in less than 50 tweets."
   ]
  },
  {
   "cell_type": "code",
   "execution_count": null,
   "metadata": {
    "collapsed": true
   },
   "outputs": [],
   "source": []
  }
 ],
 "metadata": {
  "kernelspec": {
   "display_name": "Python 2",
   "language": "python",
   "name": "python2"
  },
  "language_info": {
   "codemirror_mode": {
    "name": "ipython",
    "version": 2
   },
   "file_extension": ".py",
   "mimetype": "text/x-python",
   "name": "python",
   "nbconvert_exporter": "python",
   "pygments_lexer": "ipython2",
   "version": "2.7.11"
  }
 },
 "nbformat": 4,
 "nbformat_minor": 0
}
