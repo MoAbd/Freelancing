{
 "cells": [
  {
   "cell_type": "markdown",
   "metadata": {},
   "source": [
    "# Data Analysis Using Twitter API\n",
    "\n",
    "For the purpose of working with the Twitter API, I'll be using the \"tweepy\" library in Python (http://www.tweepy.org/).\n",
    "\n",
    "I have added comments throughout the code (wherever required) so as to make it easier to understand. I'll be using \"pandas\" library in Python (http://pandas.pydata.org/) to convert the returned JSON format into a DataFrame to work on it and analyze it."
   ]
  },
  {
   "cell_type": "markdown",
   "metadata": {},
   "source": [
    "## Step 1: Getting Twitter API keys\n",
    "In order to access Twitter  API, we need to get 4 pieces of information from Twitter: API key, API secret, Access token and Access token secret. Follow the steps below to get all 4 elements:\n",
    "\n",
    "*   Create a twitter account if you do not already have one.\n",
    "*   Go to https://apps.twitter.com/ and log in with your twitter credentials.\n",
    "*   Click \"Create New App\"\n",
    "*   Fill out the form, agree to the terms, and click \"Create your Twitter application\"\n",
    "*   In the next page, click on \"API keys\" tab, and copy your \"API key\" and \"API secret\".\n",
    "*   Scroll down and click \"Create my access token\", and copy your \"Access token\" and \"Access token secret\".\n"
   ]
  },
  {
   "cell_type": "code",
   "execution_count": 77,
   "metadata": {
    "collapsed": false
   },
   "outputs": [
    {
     "name": "stderr",
     "output_type": "stream",
     "text": [
      "C:\\Users\\Ajink\\Miniconda3\\lib\\site-packages\\IPython\\core\\interactiveshell.py:2885: FutureWarning: \n",
      "mpl_style had been deprecated and will be removed in a future version.\n",
      "Use `matplotlib.pyplot.style.use` instead.\n",
      "\n",
      "  exec(code_obj, self.user_global_ns, self.user_ns)\n"
     ]
    }
   ],
   "source": [
    "#Import the required libraries\n",
    "import tweepy\n",
    "import json\n",
    "import pandas as pd\n",
    "import matplotlib.pyplot as plt \n",
    "%matplotlib inline\n",
    "pd.set_option('display.mpl_style', 'default')\n"
   ]
  },
  {
   "cell_type": "markdown",
   "metadata": {},
   "source": [
    "## Step 2: Connecting to Twitter Streaming API\n",
    "Twitter requires all requests to use OAuth for authentication.\n",
    "We will assign the keys to respective variables for use, and also connect to the Twitter API using these along-with \"tweepy\". "
   ]
  },
  {
   "cell_type": "code",
   "execution_count": 78,
   "metadata": {
    "collapsed": false
   },
   "outputs": [],
   "source": [
    "consumer_key =  '4zA3XYyuh9YWieIeOuYw3Cdcv'\n",
    "consumer_secret = 'lHipxuhE9pvFGP0nPjwhYmtVr0qnlt9czHWYKjAN1dX5MGXcsL'\n",
    "access_token = '727286234196779010-A2Sc6miwWxyANdCCjzADoGMDFIj8jV0'\n",
    "access_token_secret = 'E6aQQPMZNfw8dVBfbkI0pdqiP4MB28jHTdLLnB9tpQTpS'\n",
    "\n",
    "\n",
    "auth = tweepy.OAuthHandler(consumer_key, consumer_secret)\n",
    "auth.set_access_token(access_token, access_token_secret)\n",
    "api = tweepy.API(auth)\n"
   ]
  },
  {
   "cell_type": "markdown",
   "metadata": {},
   "source": [
    "## Step 3: Download the data about Cricket\n",
    "We can get a good amount of data to use it for the purpose of analysis.For this I'll download first 1000 tweet based on  search query(trend_N)\n",
    "* Note : it may take a while"
   ]
  },
  {
   "cell_type": "code",
   "execution_count": 79,
   "metadata": {
    "collapsed": false
   },
   "outputs": [],
   "source": [
    "data = []\n",
    "for tweet in tweepy.Cursor(api.search, q='%23Cricket').items(1000): #get first 1000 tweets based on search query(#Cricket)\n",
    "    data.append(tweet)   "
   ]
  },
  {
   "cell_type": "code",
   "execution_count": 80,
   "metadata": {
    "collapsed": false,
    "scrolled": true
   },
   "outputs": [
    {
     "name": "stdout",
     "output_type": "stream",
     "text": [
      "1000\n"
     ]
    },
    {
     "data": {
      "text/plain": [
       "Status(retweeted=False, is_quote_status=False, in_reply_to_user_id_str=None, id=727335384972169216, geo=None, id_str='727335384972169216', coordinates=None, metadata={'iso_language_code': 'en', 'result_type': 'recent'}, in_reply_to_user_id=None, favorited=False, in_reply_to_screen_name=None, _json={'retweeted': False, 'is_quote_status': False, 'in_reply_to_user_id_str': None, 'id': 727335384972169216, 'geo': None, 'text': 'NSC not behind CAN  suspension: Bista https://t.co/vbJaGKkCzX #Cricket', 'coordinates': None, 'metadata': {'iso_language_code': 'en', 'result_type': 'recent'}, 'in_reply_to_user_id': None, 'favorited': False, 'in_reply_to_screen_name': None, 'place': None, 'contributors': None, 'favorite_count': 0, 'source': '<a href=\"http://ifttt.com\" rel=\"nofollow\">IFTTT</a>', 'retweet_count': 0, 'in_reply_to_status_id_str': None, 'id_str': '727335384972169216', 'lang': 'en', 'in_reply_to_status_id': None, 'created_at': 'Tue May 03 03:14:03 +0000 2016', 'possibly_sensitive': False, 'entities': {'user_mentions': [], 'urls': [{'url': 'https://t.co/vbJaGKkCzX', 'expanded_url': 'http://bit.ly/1WEilA9', 'indices': [38, 61], 'display_url': 'bit.ly/1WEilA9'}], 'symbols': [], 'hashtags': [{'indices': [62, 70], 'text': 'Cricket'}]}, 'truncated': False, 'user': {'statuses_count': 9048, 'has_extended_profile': False, 'profile_background_color': 'DADDC0', 'location': 'Nepal', 'id': 464734828, 'profile_image_url_https': 'https://pbs.twimg.com/profile_images/637661557954973696/hQjew74Q_normal.jpg', 'contributors_enabled': False, 'name': 'CricSoccer News', 'is_translation_enabled': False, 'profile_image_url': 'http://pbs.twimg.com/profile_images/637661557954973696/hQjew74Q_normal.jpg', 'followers_count': 947, 'follow_request_sent': False, 'favourites_count': 164, 'profile_sidebar_fill_color': 'E2EAEF', 'listed_count': 11, 'description': 'Latest Cricket and Football News from Nepal. LIVE Scores: @LiveScoreNepal. https://t.co/XrXJHjPOH0', 'following': False, 'profile_use_background_image': True, 'is_translator': False, 'profile_background_tile': False, 'url': 'https://t.co/yFGSbWI30G', 'screen_name': 'CricSoccer', 'verified': False, 'profile_background_image_url_https': 'https://pbs.twimg.com/profile_background_images/438687137/xfc8b9a408bbb0dac5cf8c998ec8b410.jpg', 'default_profile_image': False, 'notifications': False, 'id_str': '464734828', 'lang': 'en', 'profile_text_color': '877F63', 'profile_background_image_url': 'http://pbs.twimg.com/profile_background_images/438687137/xfc8b9a408bbb0dac5cf8c998ec8b410.jpg', 'profile_sidebar_border_color': 'E2EAEF', 'protected': False, 'friends_count': 91, 'time_zone': 'Kathmandu', 'created_at': 'Sun Jan 15 15:31:02 +0000 2012', 'default_profile': False, 'profile_link_color': '6C961C', 'entities': {'url': {'urls': [{'url': 'https://t.co/yFGSbWI30G', 'expanded_url': 'http://facebook.com/cricsoccer', 'indices': [0, 23], 'display_url': 'facebook.com/cricsoccer'}]}, 'description': {'urls': [{'url': 'https://t.co/XrXJHjPOH0', 'expanded_url': 'http://ow.ly/2bhtzQ', 'indices': [75, 98], 'display_url': 'ow.ly/2bhtzQ'}]}}, 'utc_offset': 20700, 'geo_enabled': False, 'profile_banner_url': 'https://pbs.twimg.com/profile_banners/464734828/1461957396'}}, place=None, contributors=None, favorite_count=0, source='IFTTT', author=User(statuses_count=9048, follow_request_sent=False, profile_background_color='DADDC0', geo_enabled=False, location='Nepal', id=464734828, profile_image_url_https='https://pbs.twimg.com/profile_images/637661557954973696/hQjew74Q_normal.jpg', contributors_enabled=False, name='CricSoccer News', is_translation_enabled=False, profile_image_url='http://pbs.twimg.com/profile_images/637661557954973696/hQjew74Q_normal.jpg', is_translator=False, followers_count=947, favourites_count=164, default_profile=False, profile_sidebar_fill_color='E2EAEF', listed_count=11, description='Latest Cricket and Football News from Nepal. LIVE Scores: @LiveScoreNepal. https://t.co/XrXJHjPOH0', profile_use_background_image=True, entities={'url': {'urls': [{'url': 'https://t.co/yFGSbWI30G', 'expanded_url': 'http://facebook.com/cricsoccer', 'indices': [0, 23], 'display_url': 'facebook.com/cricsoccer'}]}, 'description': {'urls': [{'url': 'https://t.co/XrXJHjPOH0', 'expanded_url': 'http://ow.ly/2bhtzQ', 'indices': [75, 98], 'display_url': 'ow.ly/2bhtzQ'}]}}, profile_background_tile=False, url='https://t.co/yFGSbWI30G', screen_name='CricSoccer', verified=False, profile_background_image_url_https='https://pbs.twimg.com/profile_background_images/438687137/xfc8b9a408bbb0dac5cf8c998ec8b410.jpg', _json={'statuses_count': 9048, 'has_extended_profile': False, 'profile_background_color': 'DADDC0', 'location': 'Nepal', 'id': 464734828, 'profile_image_url_https': 'https://pbs.twimg.com/profile_images/637661557954973696/hQjew74Q_normal.jpg', 'contributors_enabled': False, 'name': 'CricSoccer News', 'is_translation_enabled': False, 'profile_image_url': 'http://pbs.twimg.com/profile_images/637661557954973696/hQjew74Q_normal.jpg', 'followers_count': 947, 'follow_request_sent': False, 'favourites_count': 164, 'profile_sidebar_fill_color': 'E2EAEF', 'listed_count': 11, 'description': 'Latest Cricket and Football News from Nepal. LIVE Scores: @LiveScoreNepal. https://t.co/XrXJHjPOH0', 'following': False, 'profile_use_background_image': True, 'is_translator': False, 'profile_background_tile': False, 'url': 'https://t.co/yFGSbWI30G', 'screen_name': 'CricSoccer', 'verified': False, 'profile_background_image_url_https': 'https://pbs.twimg.com/profile_background_images/438687137/xfc8b9a408bbb0dac5cf8c998ec8b410.jpg', 'default_profile_image': False, 'notifications': False, 'id_str': '464734828', 'lang': 'en', 'profile_text_color': '877F63', 'profile_background_image_url': 'http://pbs.twimg.com/profile_background_images/438687137/xfc8b9a408bbb0dac5cf8c998ec8b410.jpg', 'profile_sidebar_border_color': 'E2EAEF', 'protected': False, 'friends_count': 91, 'time_zone': 'Kathmandu', 'created_at': 'Sun Jan 15 15:31:02 +0000 2012', 'default_profile': False, 'profile_link_color': '6C961C', 'entities': {'url': {'urls': [{'url': 'https://t.co/yFGSbWI30G', 'expanded_url': 'http://facebook.com/cricsoccer', 'indices': [0, 23], 'display_url': 'facebook.com/cricsoccer'}]}, 'description': {'urls': [{'url': 'https://t.co/XrXJHjPOH0', 'expanded_url': 'http://ow.ly/2bhtzQ', 'indices': [75, 98], 'display_url': 'ow.ly/2bhtzQ'}]}}, 'utc_offset': 20700, 'geo_enabled': False, 'profile_banner_url': 'https://pbs.twimg.com/profile_banners/464734828/1461957396'}, notifications=False, id_str='464734828', lang='en', profile_text_color='877F63', profile_background_image_url='http://pbs.twimg.com/profile_background_images/438687137/xfc8b9a408bbb0dac5cf8c998ec8b410.jpg', profile_sidebar_border_color='E2EAEF', protected=False, has_extended_profile=False, time_zone='Kathmandu', created_at=datetime.datetime(2012, 1, 15, 15, 31, 2), default_profile_image=False, _api=<tweepy.api.API object at 0x08FBE890>, friends_count=91, utc_offset=20700, following=False, profile_link_color='6C961C', profile_banner_url='https://pbs.twimg.com/profile_banners/464734828/1461957396'), retweet_count=0, user=User(statuses_count=9048, follow_request_sent=False, profile_background_color='DADDC0', geo_enabled=False, location='Nepal', id=464734828, profile_image_url_https='https://pbs.twimg.com/profile_images/637661557954973696/hQjew74Q_normal.jpg', contributors_enabled=False, name='CricSoccer News', is_translation_enabled=False, profile_image_url='http://pbs.twimg.com/profile_images/637661557954973696/hQjew74Q_normal.jpg', is_translator=False, followers_count=947, favourites_count=164, default_profile=False, profile_sidebar_fill_color='E2EAEF', listed_count=11, description='Latest Cricket and Football News from Nepal. LIVE Scores: @LiveScoreNepal. https://t.co/XrXJHjPOH0', profile_use_background_image=True, entities={'url': {'urls': [{'url': 'https://t.co/yFGSbWI30G', 'expanded_url': 'http://facebook.com/cricsoccer', 'indices': [0, 23], 'display_url': 'facebook.com/cricsoccer'}]}, 'description': {'urls': [{'url': 'https://t.co/XrXJHjPOH0', 'expanded_url': 'http://ow.ly/2bhtzQ', 'indices': [75, 98], 'display_url': 'ow.ly/2bhtzQ'}]}}, profile_background_tile=False, url='https://t.co/yFGSbWI30G', screen_name='CricSoccer', verified=False, profile_background_image_url_https='https://pbs.twimg.com/profile_background_images/438687137/xfc8b9a408bbb0dac5cf8c998ec8b410.jpg', _json={'statuses_count': 9048, 'has_extended_profile': False, 'profile_background_color': 'DADDC0', 'location': 'Nepal', 'id': 464734828, 'profile_image_url_https': 'https://pbs.twimg.com/profile_images/637661557954973696/hQjew74Q_normal.jpg', 'contributors_enabled': False, 'name': 'CricSoccer News', 'is_translation_enabled': False, 'profile_image_url': 'http://pbs.twimg.com/profile_images/637661557954973696/hQjew74Q_normal.jpg', 'followers_count': 947, 'follow_request_sent': False, 'favourites_count': 164, 'profile_sidebar_fill_color': 'E2EAEF', 'listed_count': 11, 'description': 'Latest Cricket and Football News from Nepal. LIVE Scores: @LiveScoreNepal. https://t.co/XrXJHjPOH0', 'following': False, 'profile_use_background_image': True, 'is_translator': False, 'profile_background_tile': False, 'url': 'https://t.co/yFGSbWI30G', 'screen_name': 'CricSoccer', 'verified': False, 'profile_background_image_url_https': 'https://pbs.twimg.com/profile_background_images/438687137/xfc8b9a408bbb0dac5cf8c998ec8b410.jpg', 'default_profile_image': False, 'notifications': False, 'id_str': '464734828', 'lang': 'en', 'profile_text_color': '877F63', 'profile_background_image_url': 'http://pbs.twimg.com/profile_background_images/438687137/xfc8b9a408bbb0dac5cf8c998ec8b410.jpg', 'profile_sidebar_border_color': 'E2EAEF', 'protected': False, 'friends_count': 91, 'time_zone': 'Kathmandu', 'created_at': 'Sun Jan 15 15:31:02 +0000 2012', 'default_profile': False, 'profile_link_color': '6C961C', 'entities': {'url': {'urls': [{'url': 'https://t.co/yFGSbWI30G', 'expanded_url': 'http://facebook.com/cricsoccer', 'indices': [0, 23], 'display_url': 'facebook.com/cricsoccer'}]}, 'description': {'urls': [{'url': 'https://t.co/XrXJHjPOH0', 'expanded_url': 'http://ow.ly/2bhtzQ', 'indices': [75, 98], 'display_url': 'ow.ly/2bhtzQ'}]}}, 'utc_offset': 20700, 'geo_enabled': False, 'profile_banner_url': 'https://pbs.twimg.com/profile_banners/464734828/1461957396'}, notifications=False, id_str='464734828', lang='en', profile_text_color='877F63', profile_background_image_url='http://pbs.twimg.com/profile_background_images/438687137/xfc8b9a408bbb0dac5cf8c998ec8b410.jpg', profile_sidebar_border_color='E2EAEF', protected=False, has_extended_profile=False, time_zone='Kathmandu', created_at=datetime.datetime(2012, 1, 15, 15, 31, 2), default_profile_image=False, _api=<tweepy.api.API object at 0x08FBE890>, friends_count=91, utc_offset=20700, following=False, profile_link_color='6C961C', profile_banner_url='https://pbs.twimg.com/profile_banners/464734828/1461957396'), in_reply_to_status_id_str=None, text='NSC not behind CAN  suspension: Bista https://t.co/vbJaGKkCzX #Cricket', lang='en', in_reply_to_status_id=None, created_at=datetime.datetime(2016, 5, 3, 3, 14, 3), possibly_sensitive=False, _api=<tweepy.api.API object at 0x08FBE890>, entities={'user_mentions': [], 'urls': [{'url': 'https://t.co/vbJaGKkCzX', 'expanded_url': 'http://bit.ly/1WEilA9', 'indices': [38, 61], 'display_url': 'bit.ly/1WEilA9'}], 'symbols': [], 'hashtags': [{'indices': [62, 70], 'text': 'Cricket'}]}, truncated=False, source_url='http://ifttt.com')"
      ]
     },
     "execution_count": 80,
     "metadata": {},
     "output_type": "execute_result"
    }
   ],
   "source": [
    "# Verify the number of items returned\n",
    "print (len(data))\n",
    "data[0] #the first tweet"
   ]
  },
  {
   "cell_type": "markdown",
   "metadata": {},
   "source": [
    "## Step 4: Manipulate the data\n",
    "Now I have my data, but as it is in JSON format it will be somewhat hard to utilize for data analysis. We have to separate out only the data which is required for the analysis. \n",
    "To do so, we'll use the pandas library of Python"
   ]
  },
  {
   "cell_type": "code",
   "execution_count": 81,
   "metadata": {
    "collapsed": false
   },
   "outputs": [],
   "source": [
    "def toDataFrame(tweets):\n",
    "# Create a function to convert a given list of tweets into a Pandas DataFrame.\n",
    "\n",
    "    DataSet = pd.DataFrame()\n",
    "\n",
    "    DataSet['tweetID'] = [tweet.id for tweet in tweets]\n",
    "    DataSet['tweetText'] = [tweet.text for tweet in tweets]\n",
    "    DataSet['tweetRetweetCt'] = [tweet.retweet_count for tweet in tweets]\n",
    "    DataSet['tweetFavoriteCt'] = [tweet.favorite_count for tweet in tweets]\n",
    "    DataSet['tweetSource'] = [tweet.source for tweet in tweets]\n",
    "    DataSet['tweetCreated'] = [tweet.created_at for tweet in tweets]\n",
    "    DataSet['userID'] = [tweet.user.id for tweet in tweets]\n",
    "    DataSet['userScreen'] = [tweet.user.screen_name for tweet in tweets]\n",
    "    DataSet['userName'] = [tweet.user.name for tweet in tweets]\n",
    "    DataSet['userCreateDt'] = [tweet.user.created_at for tweet in tweets]\n",
    "    DataSet['userDesc'] = [tweet.user.description for tweet in tweets]\n",
    "    DataSet['userFollowerCt'] = [tweet.user.followers_count for tweet in tweets]\n",
    "    DataSet['userFriendsCt'] = [tweet.user.friends_count for tweet in tweets]\n",
    "    DataSet['userLocation'] = [tweet.user.location for tweet in tweets]\n",
    "    DataSet['userTimezone'] = [tweet.user.time_zone for tweet in tweets]\n",
    "    DataSet['userLanguage'] = [tweet.user.lang for tweet in tweets]\n",
    "   \n",
    "    return DataSet"
   ]
  },
  {
   "cell_type": "code",
   "execution_count": 82,
   "metadata": {
    "collapsed": false
   },
   "outputs": [
    {
     "data": {
      "text/html": [
       "<div>\n",
       "<table border=\"1\" class=\"dataframe\">\n",
       "  <thead>\n",
       "    <tr style=\"text-align: right;\">\n",
       "      <th></th>\n",
       "      <th>tweetID</th>\n",
       "      <th>tweetText</th>\n",
       "      <th>tweetRetweetCt</th>\n",
       "      <th>tweetFavoriteCt</th>\n",
       "      <th>tweetSource</th>\n",
       "      <th>tweetCreated</th>\n",
       "      <th>userID</th>\n",
       "      <th>userScreen</th>\n",
       "      <th>userName</th>\n",
       "      <th>userCreateDt</th>\n",
       "      <th>userDesc</th>\n",
       "      <th>userFollowerCt</th>\n",
       "      <th>userFriendsCt</th>\n",
       "      <th>userLocation</th>\n",
       "      <th>userTimezone</th>\n",
       "      <th>userLanguage</th>\n",
       "    </tr>\n",
       "  </thead>\n",
       "  <tbody>\n",
       "    <tr>\n",
       "      <th>0</th>\n",
       "      <td>727335384972169216</td>\n",
       "      <td>NSC not behind CAN  suspension: Bista https://...</td>\n",
       "      <td>0</td>\n",
       "      <td>0</td>\n",
       "      <td>IFTTT</td>\n",
       "      <td>2016-05-03 03:14:03</td>\n",
       "      <td>464734828</td>\n",
       "      <td>CricSoccer</td>\n",
       "      <td>CricSoccer News</td>\n",
       "      <td>2012-01-15 15:31:02</td>\n",
       "      <td>Latest Cricket and Football News from Nepal. L...</td>\n",
       "      <td>947</td>\n",
       "      <td>91</td>\n",
       "      <td>Nepal</td>\n",
       "      <td>Kathmandu</td>\n",
       "      <td>en</td>\n",
       "    </tr>\n",
       "    <tr>\n",
       "      <th>1</th>\n",
       "      <td>727335345206005760</td>\n",
       "      <td>Today.!\\n&amp;gt;\\n31th_Match\\nIn IPL_2016\\nDD_vs_...</td>\n",
       "      <td>0</td>\n",
       "      <td>0</td>\n",
       "      <td>Cloudhopper</td>\n",
       "      <td>2016-05-03 03:13:54</td>\n",
       "      <td>1479160699</td>\n",
       "      <td>PTVLiveTv</td>\n",
       "      <td>PTV Sports</td>\n",
       "      <td>2013-06-03 07:58:51</td>\n",
       "      <td>Twitter Ac of PTV Sports Broadcast #Hockey\\n#A...</td>\n",
       "      <td>9320</td>\n",
       "      <td>52</td>\n",
       "      <td>Karachi , Pakistan</td>\n",
       "      <td>None</td>\n",
       "      <td>en</td>\n",
       "    </tr>\n",
       "    <tr>\n",
       "      <th>2</th>\n",
       "      <td>727335151714336769</td>\n",
       "      <td>RT @RockyMack1: @bhogleharsha A #cricket tourn...</td>\n",
       "      <td>1</td>\n",
       "      <td>0</td>\n",
       "      <td>The Gujarat Lions FC</td>\n",
       "      <td>2016-05-03 03:13:08</td>\n",
       "      <td>701394200500244480</td>\n",
       "      <td>dGujaratLionsFC</td>\n",
       "      <td>The Gujarat Lions FC</td>\n",
       "      <td>2016-02-21 13:13:03</td>\n",
       "      <td>Official Twitter Fan Club of the IPL franchise...</td>\n",
       "      <td>1563</td>\n",
       "      <td>10</td>\n",
       "      <td>Rajkot, India</td>\n",
       "      <td>None</td>\n",
       "      <td>en</td>\n",
       "    </tr>\n",
       "    <tr>\n",
       "      <th>3</th>\n",
       "      <td>727335063667531776</td>\n",
       "      <td>RT @ICCLive832: GST bill issue explained throu...</td>\n",
       "      <td>0</td>\n",
       "      <td>0</td>\n",
       "      <td>IFTTT</td>\n",
       "      <td>2016-05-03 03:12:47</td>\n",
       "      <td>4361044462</td>\n",
       "      <td>ICCLive832</td>\n",
       "      <td>ICC Live Scores</td>\n",
       "      <td>2015-12-03 11:56:06</td>\n",
       "      <td>#Cricket</td>\n",
       "      <td>324</td>\n",
       "      <td>14</td>\n",
       "      <td></td>\n",
       "      <td>None</td>\n",
       "      <td>en</td>\n",
       "    </tr>\n",
       "    <tr>\n",
       "      <th>4</th>\n",
       "      <td>727335062505705472</td>\n",
       "      <td>#cricket Framed Signed Andrew Strauss Mini Cri...</td>\n",
       "      <td>0</td>\n",
       "      <td>0</td>\n",
       "      <td>IFTTT</td>\n",
       "      <td>2016-05-03 03:12:46</td>\n",
       "      <td>4361044462</td>\n",
       "      <td>ICCLive832</td>\n",
       "      <td>ICC Live Scores</td>\n",
       "      <td>2015-12-03 11:56:06</td>\n",
       "      <td>#Cricket</td>\n",
       "      <td>324</td>\n",
       "      <td>14</td>\n",
       "      <td></td>\n",
       "      <td>None</td>\n",
       "      <td>en</td>\n",
       "    </tr>\n",
       "  </tbody>\n",
       "</table>\n",
       "</div>"
      ],
      "text/plain": [
       "              tweetID                                          tweetText  \\\n",
       "0  727335384972169216  NSC not behind CAN  suspension: Bista https://...   \n",
       "1  727335345206005760  Today.!\\n&gt;\\n31th_Match\\nIn IPL_2016\\nDD_vs_...   \n",
       "2  727335151714336769  RT @RockyMack1: @bhogleharsha A #cricket tourn...   \n",
       "3  727335063667531776  RT @ICCLive832: GST bill issue explained throu...   \n",
       "4  727335062505705472  #cricket Framed Signed Andrew Strauss Mini Cri...   \n",
       "\n",
       "   tweetRetweetCt  tweetFavoriteCt           tweetSource        tweetCreated  \\\n",
       "0               0                0                 IFTTT 2016-05-03 03:14:03   \n",
       "1               0                0           Cloudhopper 2016-05-03 03:13:54   \n",
       "2               1                0  The Gujarat Lions FC 2016-05-03 03:13:08   \n",
       "3               0                0                 IFTTT 2016-05-03 03:12:47   \n",
       "4               0                0                 IFTTT 2016-05-03 03:12:46   \n",
       "\n",
       "               userID       userScreen              userName  \\\n",
       "0           464734828       CricSoccer       CricSoccer News   \n",
       "1          1479160699        PTVLiveTv            PTV Sports   \n",
       "2  701394200500244480  dGujaratLionsFC  The Gujarat Lions FC   \n",
       "3          4361044462       ICCLive832       ICC Live Scores   \n",
       "4          4361044462       ICCLive832       ICC Live Scores   \n",
       "\n",
       "         userCreateDt                                           userDesc  \\\n",
       "0 2012-01-15 15:31:02  Latest Cricket and Football News from Nepal. L...   \n",
       "1 2013-06-03 07:58:51  Twitter Ac of PTV Sports Broadcast #Hockey\\n#A...   \n",
       "2 2016-02-21 13:13:03  Official Twitter Fan Club of the IPL franchise...   \n",
       "3 2015-12-03 11:56:06                                           #Cricket   \n",
       "4 2015-12-03 11:56:06                                           #Cricket   \n",
       "\n",
       "   userFollowerCt  userFriendsCt        userLocation userTimezone userLanguage  \n",
       "0             947             91               Nepal    Kathmandu           en  \n",
       "1            9320             52  Karachi , Pakistan         None           en  \n",
       "2            1563             10       Rajkot, India         None           en  \n",
       "3             324             14                             None           en  \n",
       "4             324             14                             None           en  "
      ]
     },
     "execution_count": 82,
     "metadata": {},
     "output_type": "execute_result"
    }
   ],
   "source": [
    "#Pass the tweets list to the above function to create a DataFrame\n",
    "DataSet = toDataFrame(data)\n",
    "\n",
    "#Visualize \n",
    "DataSet.head(5)"
   ]
  },
  {
   "cell_type": "code",
   "execution_count": 83,
   "metadata": {
    "collapsed": false,
    "scrolled": true
   },
   "outputs": [],
   "source": [
    "DataSet = pd.read_csv('out3.csv',encoding='utf8', engine='python')#save the data to be used later as it change every time u call tweepy.cursor!"
   ]
  },
  {
   "cell_type": "markdown",
   "metadata": {},
   "source": [
    "## Step 5: Clean and Visualize the data \n",
    "This step is required so that we only use valid values/records in our data and neglect the invalid values/records as they don't have any significance and also so that they don't have any negative impact on our results or analysis"
   ]
  },
  {
   "cell_type": "code",
   "execution_count": 84,
   "metadata": {
    "collapsed": false
   },
   "outputs": [
    {
     "data": {
      "text/plain": [
       "1063"
      ]
     },
     "execution_count": 84,
     "metadata": {},
     "output_type": "execute_result"
    }
   ],
   "source": [
    "DataSet1 = DataSet[DataSet.userTimezone.notnull()]\n",
    "len(DataSet)"
   ]
  },
  {
   "cell_type": "code",
   "execution_count": 85,
   "metadata": {
    "collapsed": false
   },
   "outputs": [
    {
     "name": "stdout",
     "output_type": "stream",
     "text": [
      "Karachi                       175\n",
      "New Delhi                      69\n",
      "Pacific Time (US & Canada)     44\n",
      "Arizona                        36\n",
      "London                         33\n",
      "Hawaii                         25\n",
      "Islamabad                      24\n",
      "Chennai                        21\n",
      "Mumbai                         13\n",
      "Abu Dhabi                      11\n",
      "Name: userTimezone, dtype: int64\n"
     ]
    }
   ],
   "source": [
    "# Count the number of tweets in each time zone and get the first 10\n",
    "timezone_count = DataSet1['userTimezone'].value_counts()[:10]\n",
    "print (timezone_count)"
   ]
  },
  {
   "cell_type": "code",
   "execution_count": 63,
   "metadata": {
    "collapsed": false,
    "scrolled": true
   },
   "outputs": [
    {
     "data": {
      "text/plain": [
       "<matplotlib.text.Text at 0x8082470>"
      ]
     },
     "execution_count": 63,
     "metadata": {},
     "output_type": "execute_result"
    },
    {
     "data": {
      "image/png": "[encoded data removed]",
      "text/plain": [
       "<matplotlib.figure.Figure at 0x8a6cc90>"
      ]
     },
     "metadata": {},
     "output_type": "display_data"
    }
   ],
   "source": [
    "# Create a bar-graph figure of the specified size\n",
    "plt.rcParams['figure.figsize'] = (15, 5)\n",
    "\n",
    "# Plot the Time Zone data as a bar-graph\n",
    "timezone_count.plot(kind='bar')\n",
    "\n",
    "\n",
    "# Assign labels and title to the graph to make it more presentable\n",
    "plt.xlabel('Timezones')\n",
    "plt.ylabel('Tweet Count')\n",
    "plt.title('Top 10 Timezones tweeting about #Cricket')\n"
   ]
  },
  {
   "cell_type": "code",
   "execution_count": 64,
   "metadata": {
    "collapsed": false
   },
   "outputs": [
    {
     "data": {
      "text/plain": [
       "en       890\n",
       "en-gb     96\n",
       "en-GB      4\n",
       "nl         2\n",
       "Name: userLanguage, dtype: int64"
      ]
     },
     "execution_count": 64,
     "metadata": {},
     "output_type": "execute_result"
    }
   ],
   "source": [
    "DataSet2 = DataSet[DataSet.userLanguage.notnull()]\n",
    "\n",
    "# Count the number of tweets for each language and get the first 4\n",
    "language_count = DataSet2['userLanguage'].value_counts()[:4]\n",
    "language_count"
   ]
  },
  {
   "cell_type": "code",
   "execution_count": 65,
   "metadata": {
    "collapsed": false,
    "scrolled": true
   },
   "outputs": [
    {
     "data": {
      "text/plain": [
       "<matplotlib.text.Text at 0x80e3f10>"
      ]
     },
     "execution_count": 65,
     "metadata": {},
     "output_type": "execute_result"
    },
    {
     "data": {
      "image/png": "[encoded data removed]",
      "text/plain": [
       "<matplotlib.figure.Figure at 0x8076a50>"
      ]
     },
     "metadata": {},
     "output_type": "display_data"
    }
   ],
   "source": [
    "# Create a bar-graph figure of the specified size\n",
    "plt.rcParams['figure.figsize'] = (10, 5)\n",
    "\n",
    "# Plot the language data as a bar-graph\n",
    "language_count.plot(kind='bar')\n",
    "\n",
    "\n",
    "# Assign labels and title to the graph to make it more presentable\n",
    "plt.xlabel('Languages')\n",
    "plt.ylabel('Tweet Count')\n",
    "plt.title('Top 4 Languages tweeting about #Cricket')\n"
   ]
  },
  {
   "cell_type": "markdown",
   "metadata": {},
   "source": [
    "Despite most of the tweets from Karachi(Pakistan) and New Delhi(India), the tweets written in English"
   ]
  },
  {
   "cell_type": "code",
   "execution_count": 66,
   "metadata": {
    "collapsed": false
   },
   "outputs": [
    {
     "data": {
      "text/plain": [
       "ICC Live Scores        84\n",
       "Cricket Live Score     68\n",
       "❎✖©Company_420™®✖❎     57\n",
       "Wisden India Scores    34\n",
       "Name: userName, dtype: int64"
      ]
     },
     "execution_count": 66,
     "metadata": {},
     "output_type": "execute_result"
    }
   ],
   "source": [
    "DataSet3 = DataSet[DataSet.userName.notnull()]\n",
    "\n",
    "# Count the number of tweets for each user and get the first 4\n",
    "name_count = DataSet3['userName'].value_counts()[:4]\n",
    "name_count"
   ]
  },
  {
   "cell_type": "markdown",
   "metadata": {},
   "source": [
    "We can drive from the results that a lot of tweets are about scores "
   ]
  },
  {
   "cell_type": "markdown",
   "metadata": {},
   "source": [
    "# Sentiment analysis\n",
    "positive or negative classification of the tweets "
   ]
  },
  {
   "cell_type": "code",
   "execution_count": 67,
   "metadata": {
    "collapsed": false
   },
   "outputs": [],
   "source": [
    "weights_file = open('weights.txt','r')  #open the weights file \n",
    "lines = weights_file.readlines()\n",
    "mydict= {}\n",
    "for line in lines:\n",
    "    #split each line and store the data in the form key:value\n",
    "    key, value = line.split(\"\\t\")\n",
    "    mydict[key] = int(value)"
   ]
  },
  {
   "cell_type": "code",
   "execution_count": 68,
   "metadata": {
    "collapsed": false
   },
   "outputs": [],
   "source": [
    "DataSet = DataSet[DataSet.tweetText.notnull()]\n",
    "classified = []\n",
    "for i, text in DataSet.iterrows():\n",
    "    sentiment =0\n",
    "    tweet = text['tweetText']  #split tweet ext into words\n",
    "    words = tweet.split()\n",
    "    for word in words :\n",
    "        #loop through each word and add it`s weight if it exists in the dict\n",
    "        if word in mydict:\n",
    "            sentiment += mydict[word]\n",
    "        else :\n",
    "            sentiment += 0\n",
    "    #classifie\n",
    "    if sentiment > 0 :\n",
    "        classified.append('positive')\n",
    "    elif sentiment < 0 :\n",
    "        classified.append('negative')\n",
    "    else :\n",
    "        classified.append('neutral')\n",
    "            \n",
    "            "
   ]
  },
  {
   "cell_type": "code",
   "execution_count": 69,
   "metadata": {
    "collapsed": false
   },
   "outputs": [
    {
     "data": {
      "text/html": [
       "<div>\n",
       "<table border=\"1\" class=\"dataframe\">\n",
       "  <thead>\n",
       "    <tr style=\"text-align: right;\">\n",
       "      <th></th>\n",
       "      <th>Unnamed: 0</th>\n",
       "      <th>tweetID</th>\n",
       "      <th>tweetText</th>\n",
       "      <th>tweetRetweetCt</th>\n",
       "      <th>tweetFavoriteCt</th>\n",
       "      <th>tweetSource</th>\n",
       "      <th>tweetCreated</th>\n",
       "      <th>userID</th>\n",
       "      <th>userScreen</th>\n",
       "      <th>userName</th>\n",
       "      <th>userCreateDt</th>\n",
       "      <th>userDesc</th>\n",
       "      <th>userFollowerCt</th>\n",
       "      <th>userFriendsCt</th>\n",
       "      <th>userLocation</th>\n",
       "      <th>userTimezone</th>\n",
       "      <th>userLanguage</th>\n",
       "      <th>userMention</th>\n",
       "      <th>classification</th>\n",
       "    </tr>\n",
       "  </thead>\n",
       "  <tbody>\n",
       "    <tr>\n",
       "      <th>0</th>\n",
       "      <td>0</td>\n",
       "      <td>7.271875e+17</td>\n",
       "      <td>RT @CricketUrdu: OUT!, Gambhir lbw b Aravind 3...</td>\n",
       "      <td>1</td>\n",
       "      <td>0</td>\n",
       "      <td>Twitter for Android</td>\n",
       "      <td>2016-05-02 17:26:35</td>\n",
       "      <td>717266501485486080</td>\n",
       "      <td>ImPradeepSM7</td>\n",
       "      <td>Pradeep S Maharana</td>\n",
       "      <td>2016-04-05 08:23:54</td>\n",
       "      <td>Student. Photographer. Little Actor $ Dancer. ...</td>\n",
       "      <td>55</td>\n",
       "      <td>253</td>\n",
       "      <td>Brahmapur, India</td>\n",
       "      <td>NaN</td>\n",
       "      <td>en</td>\n",
       "      <td>None</td>\n",
       "      <td>neutral</td>\n",
       "    </tr>\n",
       "    <tr>\n",
       "      <th>1</th>\n",
       "      <td>1</td>\n",
       "      <td>7.271875e+17</td>\n",
       "      <td>RT @CricketUrdu: KKR 1st Inns 59/2 (8.0),  Pan...</td>\n",
       "      <td>1</td>\n",
       "      <td>0</td>\n",
       "      <td>Twitter for Android</td>\n",
       "      <td>2016-05-02 17:26:30</td>\n",
       "      <td>717266501485486080</td>\n",
       "      <td>ImPradeepSM7</td>\n",
       "      <td>Pradeep S Maharana</td>\n",
       "      <td>2016-04-05 08:23:54</td>\n",
       "      <td>Student. Photographer. Little Actor $ Dancer. ...</td>\n",
       "      <td>55</td>\n",
       "      <td>253</td>\n",
       "      <td>Brahmapur, India</td>\n",
       "      <td>NaN</td>\n",
       "      <td>en</td>\n",
       "      <td>None</td>\n",
       "      <td>neutral</td>\n",
       "    </tr>\n",
       "    <tr>\n",
       "      <th>2</th>\n",
       "      <td>2</td>\n",
       "      <td>7.271875e+17</td>\n",
       "      <td>RT @CricketUrdu: KKR 1st Inns 52/2 (7.0),  Pan...</td>\n",
       "      <td>1</td>\n",
       "      <td>0</td>\n",
       "      <td>Twitter for Android</td>\n",
       "      <td>2016-05-02 17:26:29</td>\n",
       "      <td>717266501485486080</td>\n",
       "      <td>ImPradeepSM7</td>\n",
       "      <td>Pradeep S Maharana</td>\n",
       "      <td>2016-04-05 08:23:54</td>\n",
       "      <td>Student. Photographer. Little Actor $ Dancer. ...</td>\n",
       "      <td>55</td>\n",
       "      <td>253</td>\n",
       "      <td>Brahmapur, India</td>\n",
       "      <td>NaN</td>\n",
       "      <td>en</td>\n",
       "      <td>None</td>\n",
       "      <td>neutral</td>\n",
       "    </tr>\n",
       "    <tr>\n",
       "      <th>3</th>\n",
       "      <td>3</td>\n",
       "      <td>7.271873e+17</td>\n",
       "      <td>Shane Warne..1999 World cup semi final..#Crick...</td>\n",
       "      <td>0</td>\n",
       "      <td>0</td>\n",
       "      <td>Twitter for Android</td>\n",
       "      <td>2016-05-02 17:25:42</td>\n",
       "      <td>203029871</td>\n",
       "      <td>mayur13joshi</td>\n",
       "      <td>Mayur Joshi</td>\n",
       "      <td>2010-10-15 11:15:30</td>\n",
       "      <td>An Accidental Engineer</td>\n",
       "      <td>104</td>\n",
       "      <td>33</td>\n",
       "      <td>Vidyanagar, Gujarat, India</td>\n",
       "      <td>Mumbai</td>\n",
       "      <td>en</td>\n",
       "      <td>None</td>\n",
       "      <td>neutral</td>\n",
       "    </tr>\n",
       "    <tr>\n",
       "      <th>4</th>\n",
       "      <td>4</td>\n",
       "      <td>7.271872e+17</td>\n",
       "      <td>#Cricket Live! KKR: 69/4 (10.1 overs) vs RCB: ...</td>\n",
       "      <td>0</td>\n",
       "      <td>0</td>\n",
       "      <td>twitterfeed</td>\n",
       "      <td>2016-05-02 17:25:23</td>\n",
       "      <td>21282163</td>\n",
       "      <td>rediffsports</td>\n",
       "      <td>Rediff Sports</td>\n",
       "      <td>2009-02-19 07:50:53</td>\n",
       "      <td>Indian sports news and coverage for cricket, f...</td>\n",
       "      <td>1884</td>\n",
       "      <td>33</td>\n",
       "      <td>Mumbai</td>\n",
       "      <td>Hawaii</td>\n",
       "      <td>en</td>\n",
       "      <td>None</td>\n",
       "      <td>negative</td>\n",
       "    </tr>\n",
       "  </tbody>\n",
       "</table>\n",
       "</div>"
      ],
      "text/plain": [
       "  Unnamed: 0       tweetID                                          tweetText  \\\n",
       "0          0  7.271875e+17  RT @CricketUrdu: OUT!, Gambhir lbw b Aravind 3...   \n",
       "1          1  7.271875e+17  RT @CricketUrdu: KKR 1st Inns 59/2 (8.0),  Pan...   \n",
       "2          2  7.271875e+17  RT @CricketUrdu: KKR 1st Inns 52/2 (7.0),  Pan...   \n",
       "3          3  7.271873e+17  Shane Warne..1999 World cup semi final..#Crick...   \n",
       "4          4  7.271872e+17  #Cricket Live! KKR: 69/4 (10.1 overs) vs RCB: ...   \n",
       "\n",
       "  tweetRetweetCt tweetFavoriteCt          tweetSource         tweetCreated  \\\n",
       "0              1               0  Twitter for Android  2016-05-02 17:26:35   \n",
       "1              1               0  Twitter for Android  2016-05-02 17:26:30   \n",
       "2              1               0  Twitter for Android  2016-05-02 17:26:29   \n",
       "3              0               0  Twitter for Android  2016-05-02 17:25:42   \n",
       "4              0               0          twitterfeed  2016-05-02 17:25:23   \n",
       "\n",
       "               userID    userScreen            userName         userCreateDt  \\\n",
       "0  717266501485486080  ImPradeepSM7  Pradeep S Maharana  2016-04-05 08:23:54   \n",
       "1  717266501485486080  ImPradeepSM7  Pradeep S Maharana  2016-04-05 08:23:54   \n",
       "2  717266501485486080  ImPradeepSM7  Pradeep S Maharana  2016-04-05 08:23:54   \n",
       "3           203029871  mayur13joshi         Mayur Joshi  2010-10-15 11:15:30   \n",
       "4            21282163  rediffsports       Rediff Sports  2009-02-19 07:50:53   \n",
       "\n",
       "                                            userDesc userFollowerCt  \\\n",
       "0  Student. Photographer. Little Actor $ Dancer. ...             55   \n",
       "1  Student. Photographer. Little Actor $ Dancer. ...             55   \n",
       "2  Student. Photographer. Little Actor $ Dancer. ...             55   \n",
       "3                             An Accidental Engineer            104   \n",
       "4  Indian sports news and coverage for cricket, f...           1884   \n",
       "\n",
       "  userFriendsCt                userLocation userTimezone userLanguage  \\\n",
       "0           253            Brahmapur, India          NaN           en   \n",
       "1           253            Brahmapur, India          NaN           en   \n",
       "2           253            Brahmapur, India          NaN           en   \n",
       "3            33  Vidyanagar, Gujarat, India       Mumbai           en   \n",
       "4            33                      Mumbai       Hawaii           en   \n",
       "\n",
       "  userMention classification  \n",
       "0        None        neutral  \n",
       "1        None        neutral  \n",
       "2        None        neutral  \n",
       "3        None        neutral  \n",
       "4        None       negative  "
      ]
     },
     "execution_count": 69,
     "metadata": {},
     "output_type": "execute_result"
    }
   ],
   "source": [
    "DataSet['classification'] = classified #add the classification column to the data set\n",
    "DataSet.head(5)"
   ]
  },
  {
   "cell_type": "code",
   "execution_count": 70,
   "metadata": {
    "collapsed": false
   },
   "outputs": [
    {
     "data": {
      "text/plain": [
       "neutral     692\n",
       "positive    244\n",
       "negative     68\n",
       "Name: classification, dtype: int64"
      ]
     },
     "execution_count": 70,
     "metadata": {},
     "output_type": "execute_result"
    }
   ],
   "source": [
    "# Count the number of tweets for each label\n",
    "class_count = DataSet['classification'].value_counts()\n",
    "class_count"
   ]
  },
  {
   "cell_type": "code",
   "execution_count": 71,
   "metadata": {
    "collapsed": false
   },
   "outputs": [
    {
     "data": {
      "text/plain": [
       "<matplotlib.text.Text at 0x5c21c10>"
      ]
     },
     "execution_count": 71,
     "metadata": {},
     "output_type": "execute_result"
    },
    {
     "data": {
      "image/png": "[encoded data removed]",
      "text/plain": [
       "<matplotlib.figure.Figure at 0x5b76190>"
      ]
     },
     "metadata": {},
     "output_type": "display_data"
    }
   ],
   "source": [
    "# Create a bar-graph figure of the specified size\n",
    "plt.rcParams['figure.figsize'] = (8, 5)\n",
    "\n",
    "# Plot the class data as a bar-graph\n",
    "class_count.plot(kind='bar')\n",
    "\n",
    "\n",
    "# Assign labels and title to the graph to make it more presentable\n",
    "plt.xlabel('Classes')\n",
    "plt.ylabel('Tweet Count')\n",
    "plt.title('#Cricket sentiment analysis')\n"
   ]
  },
  {
   "cell_type": "markdown",
   "metadata": {},
   "source": [
    "## Data cleaning and data visualization \n",
    "for most negative,neutral and positive time zone"
   ]
  },
  {
   "cell_type": "code",
   "execution_count": 72,
   "metadata": {
    "collapsed": false
   },
   "outputs": [],
   "source": [
    "time_data = DataSet[DataSet.userTimezone.notnull()]\n",
    "neutral_data=time_data[time_data['classification']=='neutral']\n",
    "positive_data = time_data[time_data['classification']=='positive']\n",
    "negative_data = time_data[time_data['classification']=='negative']"
   ]
  },
  {
   "cell_type": "code",
   "execution_count": 73,
   "metadata": {
    "collapsed": false
   },
   "outputs": [
    {
     "data": {
      "text/plain": [
       "Karachi                       21\n",
       "London                        18\n",
       "Pacific Time (US & Canada)    10\n",
       "Name: userTimezone, dtype: int64"
      ]
     },
     "execution_count": 73,
     "metadata": {},
     "output_type": "execute_result"
    }
   ],
   "source": [
    "positive_timezone = positive_data['userTimezone'].value_counts()[:3]\n",
    "positive_timezone"
   ]
  },
  {
   "cell_type": "code",
   "execution_count": 74,
   "metadata": {
    "collapsed": false
   },
   "outputs": [
    {
     "data": {
      "text/plain": [
       "Karachi      10\n",
       "New Delhi     4\n",
       "Hawaii        4\n",
       "Name: userTimezone, dtype: int64"
      ]
     },
     "execution_count": 74,
     "metadata": {},
     "output_type": "execute_result"
    }
   ],
   "source": [
    "negative_timezone = negative_data['userTimezone'].value_counts()[:3]\n",
    "negative_timezone"
   ]
  },
  {
   "cell_type": "code",
   "execution_count": 75,
   "metadata": {
    "collapsed": false
   },
   "outputs": [
    {
     "data": {
      "text/plain": [
       "Karachi      144\n",
       "New Delhi     57\n",
       "Arizona       35\n",
       "Name: userTimezone, dtype: int64"
      ]
     },
     "execution_count": 75,
     "metadata": {},
     "output_type": "execute_result"
    }
   ],
   "source": [
    "neutral_timezone = neutral_data['userTimezone'].value_counts()[:3]\n",
    "neutral_timezone"
   ]
  },
  {
   "cell_type": "code",
   "execution_count": 76,
   "metadata": {
    "collapsed": false
   },
   "outputs": [
    {
     "data": {
      "text/plain": [
       "<matplotlib.axes._subplots.AxesSubplot at 0x8faced0>"
      ]
     },
     "execution_count": 76,
     "metadata": {},
     "output_type": "execute_result"
    },
    {
     "data": {
      "image/png": "[encoded data removed]",
      "text/plain": [
       "<matplotlib.figure.Figure at 0x5c1e2b0>"
      ]
     },
     "metadata": {},
     "output_type": "display_data"
    }
   ],
   "source": [
    "plt.figure(1)\n",
    "plt.subplot(2,2,1)\n",
    "plt.title('Most negative Time-zone')\n",
    "negative_timezone.plot(kind='pie')\n",
    "plt.subplot(2,2,2)\n",
    "plt.title('Most positive Time-zone')\n",
    "positive_timezone.plot(kind='pie')\n",
    "plt.subplot(2,2,3)\n",
    "plt.title('Most neutral Time-zone')\n",
    "neutral_timezone.plot(kind='pie')\n",
    "\n",
    "\n"
   ]
  },
  {
   "cell_type": "code",
   "execution_count": null,
   "metadata": {
    "collapsed": true
   },
   "outputs": [],
   "source": []
  },
  {
   "cell_type": "code",
   "execution_count": null,
   "metadata": {
    "collapsed": true
   },
   "outputs": [],
   "source": []
  },
  {
   "cell_type": "code",
   "execution_count": null,
   "metadata": {
    "collapsed": true
   },
   "outputs": [],
   "source": []
  }
 ],
 "metadata": {
  "kernelspec": {
   "display_name": "Python 2",
   "language": "python",
   "name": "python2"
  },
  "language_info": {
   "codemirror_mode": {
    "name": "ipython",
    "version": 2
   },
   "file_extension": ".py",
   "mimetype": "text/x-python",
   "name": "python",
   "nbconvert_exporter": "python",
   "pygments_lexer": "ipython2",
   "version": "2.7.11"
  }
 },
 "nbformat": 4,
 "nbformat_minor": 0
}
